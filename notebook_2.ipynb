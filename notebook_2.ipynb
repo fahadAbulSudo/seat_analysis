{
 "cells": [
  {
   "cell_type": "code",
   "execution_count": null,
   "metadata": {},
   "outputs": [
    {
     "name": "stdout",
     "output_type": "stream",
     "text": [
      "\n",
      "0: 448x640 1 seat, 447.3ms\n",
      "Speed: 1.4ms preprocess, 447.3ms inference, 0.7ms postprocess per image at shape (1, 3, 448, 640)\n"
     ]
    }
   ],
   "source": [
    "# from ultralytics import YOLO\n",
    "# import cv2\n",
    "\n",
    "# # Load the trained YOLO model\n",
    "# model = YOLO(\"best_model.pt\")  # Correct way to load YOLO models\n",
    "\n",
    "# # Load the image\n",
    "# image_path = \"/home/satyashish/Desktop/final_image_data/training_yolo_v9_passenger_seats/images.jpeg\"\n",
    "# image = cv2.imread(image_path)\n",
    "\n",
    "# # Perform inference\n",
    "# results = model(image)\n",
    "\n",
    "# # Save or display the image with bounding boxes\n",
    "# for result in results:\n",
    "#     result.save(filename=\"output.jpg\")  # Save the image instead of showing it\n",
    "\n",
    "# # Open the image using OpenCV (avoiding system-level dependencies)\n",
    "# output_img = cv2.imread(\"output.jpg\")\n",
    "# cv2.imshow(\"Detection Result\", output_img)\n",
    "# cv2.waitKey(0)\n",
    "# cv2.destroyAllWindows()\n"
   ]
  },
  {
   "cell_type": "code",
   "execution_count": 2,
   "metadata": {},
   "outputs": [
    {
     "name": "stdout",
     "output_type": "stream",
     "text": [
      "\n",
      "0: 480x640 4 seats, 425.0ms\n",
      "Speed: 1.7ms preprocess, 425.0ms inference, 0.7ms postprocess per image at shape (1, 3, 480, 640)\n",
      "Processed: Copy of L15 front.jpg -> Saved as: /home/satyashish/Desktop/final_image_data/training_yolo_v9_passenger_seats/output_image_folder/output_Copy of L15 front.jpg\n",
      "\n",
      "0: 480x640 3 seats, 418.8ms\n",
      "Speed: 2.9ms preprocess, 418.8ms inference, 0.7ms postprocess per image at shape (1, 3, 480, 640)\n",
      "Processed: Copy of L4 front.jpg -> Saved as: /home/satyashish/Desktop/final_image_data/training_yolo_v9_passenger_seats/output_image_folder/output_Copy of L4 front.jpg\n",
      "\n",
      "0: 480x640 4 seats, 423.7ms\n",
      "Speed: 1.8ms preprocess, 423.7ms inference, 0.8ms postprocess per image at shape (1, 3, 480, 640)\n",
      "Processed: Copy of L2 front.jpg -> Saved as: /home/satyashish/Desktop/final_image_data/training_yolo_v9_passenger_seats/output_image_folder/output_Copy of L2 front.jpg\n",
      "\n",
      "0: 480x640 4 seats, 400.8ms\n",
      "Speed: 1.9ms preprocess, 400.8ms inference, 0.4ms postprocess per image at shape (1, 3, 480, 640)\n",
      "Processed: Copy of L11 front.jpg -> Saved as: /home/satyashish/Desktop/final_image_data/training_yolo_v9_passenger_seats/output_image_folder/output_Copy of L11 front.jpg\n",
      "All images processed successfully!\n"
     ]
    }
   ],
   "source": [
    "import os\n",
    "import cv2\n",
    "from ultralytics import YOLO\n",
    "\n",
    "# Load the trained YOLO model\n",
    "model = YOLO(\"best_model.pt\")  # Load your trained model\n",
    "\n",
    "# Path to the folder containing images\n",
    "input_folder = \"/home/satyashish/Desktop/final_image_data/training_yolo_v9_passenger_seats/client_dataset\"\n",
    "output_folder = \"/home/satyashish/Desktop/final_image_data/training_yolo_v9_passenger_seats/output_image_folder\"\n",
    "\n",
    "# Ensure the output folder exists\n",
    "os.makedirs(output_folder, exist_ok=True)\n",
    "\n",
    "# Process all image files in the folder\n",
    "for filename in os.listdir(input_folder):\n",
    "    if filename.lower().endswith((\".jpg\", \".jpeg\", \".png\", \".webp\")):  # Check if file is an image\n",
    "        image_path = os.path.join(input_folder, filename)\n",
    "        output_path = os.path.join(output_folder, f\"output_{filename}\")\n",
    "\n",
    "        # Load the image\n",
    "        image = cv2.imread(image_path)\n",
    "\n",
    "        # Perform inference\n",
    "        results = model(image)\n",
    "\n",
    "        # Save results\n",
    "        for result in results:\n",
    "            result.save(filename=output_path)  # Save image with bounding boxes\n",
    "        \n",
    "        print(f\"Processed: {filename} -> Saved as: {output_path}\")\n",
    "\n",
    "print(\"All images processed successfully!\")\n"
   ]
  },
  {
   "cell_type": "code",
   "execution_count": 3,
   "metadata": {},
   "outputs": [
    {
     "name": "stdout",
     "output_type": "stream",
     "text": [
      "\n",
      "0: 480x640 4 seats, 424.2ms\n",
      "Speed: 1.6ms preprocess, 424.2ms inference, 0.4ms postprocess per image at shape (1, 3, 480, 640)\n",
      "Saved: /home/satyashish/Desktop/final_image_data/training_yolo_v9_passenger_seats/cropped_output/image2004_crop_1.jpg\n",
      "Saved: /home/satyashish/Desktop/final_image_data/training_yolo_v9_passenger_seats/cropped_output/image2004_crop_2.jpg\n",
      "Saved: /home/satyashish/Desktop/final_image_data/training_yolo_v9_passenger_seats/cropped_output/image2004_crop_3.jpg\n",
      "Saved: /home/satyashish/Desktop/final_image_data/training_yolo_v9_passenger_seats/cropped_output/image2004_crop_4.jpg\n",
      "\n",
      "0: 480x640 4 seats, 416.9ms\n",
      "Speed: 1.9ms preprocess, 416.9ms inference, 0.7ms postprocess per image at shape (1, 3, 480, 640)\n",
      "Saved: /home/satyashish/Desktop/final_image_data/training_yolo_v9_passenger_seats/cropped_output/image2002_crop_1.jpg\n",
      "Saved: /home/satyashish/Desktop/final_image_data/training_yolo_v9_passenger_seats/cropped_output/image2002_crop_2.jpg\n",
      "Saved: /home/satyashish/Desktop/final_image_data/training_yolo_v9_passenger_seats/cropped_output/image2002_crop_3.jpg\n",
      "Saved: /home/satyashish/Desktop/final_image_data/training_yolo_v9_passenger_seats/cropped_output/image2002_crop_4.jpg\n",
      "\n",
      "0: 480x640 4 seats, 433.9ms\n",
      "Speed: 1.8ms preprocess, 433.9ms inference, 0.8ms postprocess per image at shape (1, 3, 480, 640)\n",
      "Saved: /home/satyashish/Desktop/final_image_data/training_yolo_v9_passenger_seats/cropped_output/image2001_crop_1.jpg\n",
      "Saved: /home/satyashish/Desktop/final_image_data/training_yolo_v9_passenger_seats/cropped_output/image2001_crop_2.jpg\n",
      "Saved: /home/satyashish/Desktop/final_image_data/training_yolo_v9_passenger_seats/cropped_output/image2001_crop_3.jpg\n",
      "Saved: /home/satyashish/Desktop/final_image_data/training_yolo_v9_passenger_seats/cropped_output/image2001_crop_4.jpg\n",
      "\n",
      "0: 480x640 3 seats, 414.5ms\n",
      "Speed: 1.8ms preprocess, 414.5ms inference, 0.4ms postprocess per image at shape (1, 3, 480, 640)\n",
      "Saved: /home/satyashish/Desktop/final_image_data/training_yolo_v9_passenger_seats/cropped_output/image2003_crop_1.jpg\n",
      "Saved: /home/satyashish/Desktop/final_image_data/training_yolo_v9_passenger_seats/cropped_output/image2003_crop_2.jpg\n",
      "Saved: /home/satyashish/Desktop/final_image_data/training_yolo_v9_passenger_seats/cropped_output/image2003_crop_3.jpg\n",
      "All images processed and cropped successfully!\n"
     ]
    }
   ],
   "source": [
    "import os\n",
    "import cv2\n",
    "from ultralytics import YOLO\n",
    "\n",
    "# Load the trained YOLO model\n",
    "model = YOLO(\"best_model.pt\")  # Load your trained model\n",
    "\n",
    "# Paths to folders\n",
    "input_folder = \"/home/satyashish/Desktop/final_image_data/training_yolo_v9_passenger_seats/test_images\"\n",
    "output_folder = \"/home/satyashish/Desktop/final_image_data/training_yolo_v9_passenger_seats/cropped_output\"\n",
    "\n",
    "# Ensure the output folder exists\n",
    "os.makedirs(output_folder, exist_ok=True)\n",
    "\n",
    "# Process all image files in the folder\n",
    "for filename in os.listdir(input_folder):\n",
    "    if filename.lower().endswith((\".jpg\", \".jpeg\", \".png\", \".webp\")):  # Check if file is an image\n",
    "        image_path = os.path.join(input_folder, filename)\n",
    "        image = cv2.imread(image_path)\n",
    "\n",
    "        # Perform inference\n",
    "        results = model(image)\n",
    "\n",
    "        # Extract bounding boxes from results\n",
    "        for i, result in enumerate(results):\n",
    "            for j, box in enumerate(result.boxes.xyxy):  # xyxy format (x_min, y_min, x_max, y_max)\n",
    "                x_min, y_min, x_max, y_max = map(int, box)  # Convert to integers\n",
    "\n",
    "                # Crop the detected object\n",
    "                cropped_object = image[y_min:y_max, x_min:x_max]\n",
    "\n",
    "                # Save the cropped image\n",
    "                cropped_filename = f\"{os.path.splitext(filename)[0]}_crop_{j+1}.jpg\"\n",
    "                output_path = os.path.join(output_folder, cropped_filename)\n",
    "                cv2.imwrite(output_path, cropped_object)\n",
    "                \n",
    "                print(f\"Saved: {output_path}\")\n",
    "\n",
    "print(\"All images processed and cropped successfully!\")\n"
   ]
  },
  {
   "cell_type": "code",
   "execution_count": null,
   "metadata": {},
   "outputs": [],
   "source": []
  }
 ],
 "metadata": {
  "kernelspec": {
   "display_name": "yolo_v9_env",
   "language": "python",
   "name": "python3"
  },
  "language_info": {
   "codemirror_mode": {
    "name": "ipython",
    "version": 3
   },
   "file_extension": ".py",
   "mimetype": "text/x-python",
   "name": "python",
   "nbconvert_exporter": "python",
   "pygments_lexer": "ipython3",
   "version": "3.10.12"
  }
 },
 "nbformat": 4,
 "nbformat_minor": 2
}
