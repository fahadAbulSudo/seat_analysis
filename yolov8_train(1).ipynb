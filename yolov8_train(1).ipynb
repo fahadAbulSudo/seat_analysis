{
  "cells": [
    {
      "cell_type": "code",
      "execution_count": null,
      "metadata": {
        "colab": {
          "base_uri": "https://localhost:8080/"
        },
        "id": "HK1G6oNX3o_b",
        "outputId": "d604122d-8fcf-4961-b0c1-4a66e14d4a2d"
      },
      "outputs": [
        {
          "name": "stdout",
          "output_type": "stream",
          "text": [
            "use yolov10_env to run this script\n"
          ]
        }
      ],
      "source": [
        "# print('use yolov10_env to run this script')"
      ]
    },
    {
      "cell_type": "code",
      "execution_count": null,
      "metadata": {
        "colab": {
          "base_uri": "https://localhost:8080/"
        },
        "id": "wH23igG44GuX",
        "outputId": "256be98f-cbb8-4bfe-ca88-acdbd63b7600"
      },
      "outputs": [
        {
          "name": "stdout",
          "output_type": "stream",
          "text": [
            "Mounted at /content/drive\n"
          ]
        }
      ],
      "source": [
        "from google.colab import drive\n",
        "drive.mount('/content/drive')"
      ]
    },
    {
      "cell_type": "code",
      "execution_count": null,
      "metadata": {
        "colab": {
          "base_uri": "https://localhost:8080/"
        },
        "id": "25rlfRmc3zlY",
        "outputId": "7e95448c-1f5f-476b-ce65-bd6a547233db"
      },
      "outputs": [
        {
          "name": "stdout",
          "output_type": "stream",
          "text": [
            "\u001b[2K   \u001b[90m━━━━━━━━━━━━━━━━━━━━━━━━━━━━━━━━━━━━━━━━\u001b[0m \u001b[32m923.8/923.8 kB\u001b[0m \u001b[31m52.8 MB/s\u001b[0m eta \u001b[36m0:00:00\u001b[0m\n",
            "\u001b[2K   \u001b[90m━━━━━━━━━━━━━━━━━━━━━━━━━━━━━━━━━━━━━━━━\u001b[0m \u001b[32m363.4/363.4 MB\u001b[0m \u001b[31m3.9 MB/s\u001b[0m eta \u001b[36m0:00:00\u001b[0m\n",
            "\u001b[2K   \u001b[90m━━━━━━━━━━━━━━━━━━━━━━━━━━━━━━━━━━━━━━━━\u001b[0m \u001b[32m13.8/13.8 MB\u001b[0m \u001b[31m93.4 MB/s\u001b[0m eta \u001b[36m0:00:00\u001b[0m\n",
            "\u001b[2K   \u001b[90m━━━━━━━━━━━━━━━━━━━━━━━━━━━━━━━━━━━━━━━━\u001b[0m \u001b[32m24.6/24.6 MB\u001b[0m \u001b[31m88.1 MB/s\u001b[0m eta \u001b[36m0:00:00\u001b[0m\n",
            "\u001b[2K   \u001b[90m━━━━━━━━━━━━━━━━━━━━━━━━━━━━━━━━━━━━━━━━\u001b[0m \u001b[32m883.7/883.7 kB\u001b[0m \u001b[31m49.7 MB/s\u001b[0m eta \u001b[36m0:00:00\u001b[0m\n",
            "\u001b[2K   \u001b[90m━━━━━━━━━━━━━━━━━━━━━━━━━━━━━━━━━━━━━━━━\u001b[0m \u001b[32m664.8/664.8 MB\u001b[0m \u001b[31m1.2 MB/s\u001b[0m eta \u001b[36m0:00:00\u001b[0m\n",
            "\u001b[2K   \u001b[90m━━━━━━━━━━━━━━━━━━━━━━━━━━━━━━━━━━━━━━━━\u001b[0m \u001b[32m211.5/211.5 MB\u001b[0m \u001b[31m5.8 MB/s\u001b[0m eta \u001b[36m0:00:00\u001b[0m\n",
            "\u001b[2K   \u001b[90m━━━━━━━━━━━━━━━━━━━━━━━━━━━━━━━━━━━━━━━━\u001b[0m \u001b[32m56.3/56.3 MB\u001b[0m \u001b[31m12.8 MB/s\u001b[0m eta \u001b[36m0:00:00\u001b[0m\n",
            "\u001b[2K   \u001b[90m━━━━━━━━━━━━━━━━━━━━━━━━━━━━━━━━━━━━━━━━\u001b[0m \u001b[32m127.9/127.9 MB\u001b[0m \u001b[31m7.5 MB/s\u001b[0m eta \u001b[36m0:00:00\u001b[0m\n",
            "\u001b[2K   \u001b[90m━━━━━━━━━━━━━━━━━━━━━━━━━━━━━━━━━━━━━━━━\u001b[0m \u001b[32m207.5/207.5 MB\u001b[0m \u001b[31m5.4 MB/s\u001b[0m eta \u001b[36m0:00:00\u001b[0m\n",
            "\u001b[2K   \u001b[90m━━━━━━━━━━━━━━━━━━━━━━━━━━━━━━━━━━━━━━━━\u001b[0m \u001b[32m21.1/21.1 MB\u001b[0m \u001b[31m36.5 MB/s\u001b[0m eta \u001b[36m0:00:00\u001b[0m\n",
            "\u001b[?25h"
          ]
        }
      ],
      "source": [
        "pip install --quiet ultralytics"
      ]
    },
    {
      "cell_type": "code",
      "execution_count": 1,
      "metadata": {
        "colab": {
          "base_uri": "https://localhost:8080/"
        },
        "id": "CyoWjDPm3o_d",
        "outputId": "3e75faf1-d590-4cbb-8780-3c5b5c0936cd"
      },
      "outputs": [],
      "source": [
        "import os\n",
        "import random\n",
        "import shutil\n",
        "import yaml\n",
        "import torch\n",
        "from ultralytics import YOLO"
      ]
    },
    {
      "cell_type": "code",
      "execution_count": null,
      "metadata": {
        "colab": {
          "base_uri": "https://localhost:8080/"
        },
        "collapsed": true,
        "id": "Gin4OBF04-n-",
        "outputId": "9e48485a-4613-4507-d751-760a2bdf299f"
      },
      "outputs": [
        {
          "name": "stdout",
          "output_type": "stream",
          "text": [
            "Archive:  /content/drive/MyDrive/yolov8_test/whole_seat_images_annotate_ver_1_yolov8.zip\n",
            "  inflating: /content/drive/MyDrive/yolov8_test/README.dataset.txt  \n",
            "  inflating: /content/drive/MyDrive/yolov8_test/README.roboflow.txt  \n",
            "  inflating: /content/drive/MyDrive/yolov8_test/data.yaml  \n",
            "   creating: /content/drive/MyDrive/yolov8_test/train/\n",
            "   creating: /content/drive/MyDrive/yolov8_test/train/images/\n",
            " extracting: /content/drive/MyDrive/yolov8_test/train/images/IMG_5004_png.rf.b1466d6c97ed8e6b13023bba0b59d4a0.jpg  \n",
            " extracting: /content/drive/MyDrive/yolov8_test/train/images/IMG_5005_png.rf.5bd5b88bdb7566fd9b093e82d3cf3cb6.jpg  \n",
            " extracting: /content/drive/MyDrive/yolov8_test/train/images/IMG_5007_png.rf.9a51db50204f5bd63591cc7c7ebef511.jpg  \n",
            " extracting: /content/drive/MyDrive/yolov8_test/train/images/IMG_5008_png.rf.e24fa8c0e3815f1ce33b54e6f9019a00.jpg  \n",
            " extracting: /content/drive/MyDrive/yolov8_test/train/images/IMG_5009_png.rf.5c198d718f03f3bc0823a8615ce8a7ca.jpg  \n",
            " extracting: /content/drive/MyDrive/yolov8_test/train/images/IMG_5010_png.rf.14aafe3567ae21bc9bbc5cf302e7e2e1.jpg  \n",
            " extracting: /content/drive/MyDrive/yolov8_test/train/images/IMG_5011_png.rf.8a20e95d363668df7aabb3103c9b6525.jpg  \n",
            " extracting: /content/drive/MyDrive/yolov8_test/train/images/IMG_5013_png.rf.e600f37cbf26923cf1695f7d38e47ec6.jpg  \n",
            " extracting: /content/drive/MyDrive/yolov8_test/train/images/IMG_5014_png.rf.a926c7822fd64a661fac8aadb4a481dc.jpg  \n",
            " extracting: /content/drive/MyDrive/yolov8_test/train/images/IMG_5015_png.rf.fe7041b5cc4738a7eb39ba14933d3d37.jpg  \n",
            " extracting: /content/drive/MyDrive/yolov8_test/train/images/IMG_5016_png.rf.f2bd365636b42d508d5236068acdc345.jpg  \n",
            " extracting: /content/drive/MyDrive/yolov8_test/train/images/IMG_5017_png.rf.433c13d63fc77328fb0aa7a580d6a826.jpg  \n",
            " extracting: /content/drive/MyDrive/yolov8_test/train/images/IMG_5018_png.rf.caa3b4bc9932d09b82f5b49181c305a9.jpg  \n",
            " extracting: /content/drive/MyDrive/yolov8_test/train/images/IMG_5020_png.rf.bdd51e7ea734f408730189cefd3d3327.jpg  \n",
            " extracting: /content/drive/MyDrive/yolov8_test/train/images/IMG_5022_png.rf.5a579fc5c46d5a30b727f496830bab3b.jpg  \n",
            " extracting: /content/drive/MyDrive/yolov8_test/train/images/IMG_5024_png.rf.fd4cf53ca1da2616efb006d7434d9193.jpg  \n",
            " extracting: /content/drive/MyDrive/yolov8_test/train/images/IMG_5025_png.rf.57a568e76af50096db0e29e32a86b3e3.jpg  \n",
            " extracting: /content/drive/MyDrive/yolov8_test/train/images/IMG_5026_png.rf.dad254d52e54e7cbc9a1df69fe67c378.jpg  \n",
            " extracting: /content/drive/MyDrive/yolov8_test/train/images/IMG_5027_png.rf.e378bb29e415a5e50fbb5a967758542a.jpg  \n",
            " extracting: /content/drive/MyDrive/yolov8_test/train/images/IMG_5028_png.rf.ae8a5b32df48fbd74230a7d0ec999abe.jpg  \n",
            " extracting: /content/drive/MyDrive/yolov8_test/train/images/IMG_5029_png.rf.3816dc85e9de008a4344044f9dafb599.jpg  \n",
            " extracting: /content/drive/MyDrive/yolov8_test/train/images/IMG_5030_png.rf.782e171e40f28b6319138fe4bb055727.jpg  \n",
            " extracting: /content/drive/MyDrive/yolov8_test/train/images/IMG_5031_png.rf.f8a2b4786e14d74b0b5dae01e4315ce6.jpg  \n",
            " extracting: /content/drive/MyDrive/yolov8_test/train/images/IMG_5032_png.rf.9915a51a834a6b0fe310f544a2d23a2c.jpg  \n",
            " extracting: /content/drive/MyDrive/yolov8_test/train/images/IMG_5033_png.rf.b1c104e0f6a0eb62742d7fad16b80088.jpg  \n",
            " extracting: /content/drive/MyDrive/yolov8_test/train/images/IMG_5034_png.rf.4ae12b8ff35b472f0b74e22dd3e8a060.jpg  \n",
            " extracting: /content/drive/MyDrive/yolov8_test/train/images/IMG_5035_png.rf.7aa03090e0815a8ddcf11b26da3419d2.jpg  \n",
            " extracting: /content/drive/MyDrive/yolov8_test/train/images/IMG_5036_png.rf.1b7410d2460f6f94fd31f43f0d599676.jpg  \n",
            " extracting: /content/drive/MyDrive/yolov8_test/train/images/IMG_5037_png.rf.f29be9db1fa27ccb42c235d08de7b330.jpg  \n",
            " extracting: /content/drive/MyDrive/yolov8_test/train/images/IMG_5038_png.rf.b54ce2bdc63c876cd9a90f8d251039a4.jpg  \n",
            " extracting: /content/drive/MyDrive/yolov8_test/train/images/IMG_5040_png.rf.287db53a7efac83c22a2eab623df0477.jpg  \n",
            " extracting: /content/drive/MyDrive/yolov8_test/train/images/IMG_5041_png.rf.6b93617d3d57af9d9809e8df50df675c.jpg  \n",
            " extracting: /content/drive/MyDrive/yolov8_test/train/images/IMG_5042_png.rf.12d5c1ede21069d5dfe1452812273996.jpg  \n",
            " extracting: /content/drive/MyDrive/yolov8_test/train/images/IMG_5043_png.rf.19460a156d68b8b5119a7c46f34a785e.jpg  \n",
            " extracting: /content/drive/MyDrive/yolov8_test/train/images/IMG_5044_png.rf.52cf4afb71e1e0ea59b3432d8469f980.jpg  \n",
            " extracting: /content/drive/MyDrive/yolov8_test/train/images/IMG_5045_png.rf.a637a4b8642be8b5da4e9df3b7e7c297.jpg  \n",
            " extracting: /content/drive/MyDrive/yolov8_test/train/images/IMG_5046_png.rf.8c5cb83c787239571d4cf6d33755846e.jpg  \n",
            " extracting: /content/drive/MyDrive/yolov8_test/train/images/IMG_5047_png.rf.6ab8470ce7bdb5eefe31ce18dc70137b.jpg  \n",
            " extracting: /content/drive/MyDrive/yolov8_test/train/images/IMG_5048_png.rf.babf5367845a8858de18742aaf496481.jpg  \n",
            " extracting: /content/drive/MyDrive/yolov8_test/train/images/IMG_5049_png.rf.d8ba3a6e20171df70b41b6c64cafc6e8.jpg  \n",
            " extracting: /content/drive/MyDrive/yolov8_test/train/images/IMG_5050_png.rf.f4482a4289e7b8772252bd994b15f471.jpg  \n",
            " extracting: /content/drive/MyDrive/yolov8_test/train/images/IMG_5051_png.rf.0e426ac73b3cf0578875b1b6c64e8755.jpg  \n",
            " extracting: /content/drive/MyDrive/yolov8_test/train/images/IMG_5052_png.rf.adcfdb4a559be7d8600abf674c5b7857.jpg  \n",
            " extracting: /content/drive/MyDrive/yolov8_test/train/images/IMG_5053_png.rf.890ee829d34e43f8d5d58584755d52e1.jpg  \n",
            " extracting: /content/drive/MyDrive/yolov8_test/train/images/IMG_5054_png.rf.fc0b8b4e6655879de6c8eddc49fe712a.jpg  \n",
            " extracting: /content/drive/MyDrive/yolov8_test/train/images/IMG_5056_png.rf.fd981b1229b7f363eec18019b510750b.jpg  \n",
            " extracting: /content/drive/MyDrive/yolov8_test/train/images/IMG_5059_png.rf.3878ac50f27a4a2f5728639811b09d4d.jpg  \n",
            " extracting: /content/drive/MyDrive/yolov8_test/train/images/IMG_5060_png.rf.bb413395a5b0f20947db1ed2ec7b7195.jpg  \n",
            " extracting: /content/drive/MyDrive/yolov8_test/train/images/IMG_5061_png.rf.b8d6f11a8ae8cb7f40be0e91d8d7252c.jpg  \n",
            " extracting: /content/drive/MyDrive/yolov8_test/train/images/IMG_5062_png.rf.dbd1bc12d7f2f350ed54e572b30eb252.jpg  \n",
            " extracting: /content/drive/MyDrive/yolov8_test/train/images/IMG_5063_png.rf.d8542cd412fad595d3d7033d5bc0304a.jpg  \n",
            " extracting: /content/drive/MyDrive/yolov8_test/train/images/IMG_5064_png.rf.ecf9118c755af227451ee5d42f789a18.jpg  \n",
            " extracting: /content/drive/MyDrive/yolov8_test/train/images/IMG_5065_png.rf.1c87c59577edc44e4dda9f615d3a80b1.jpg  \n",
            " extracting: /content/drive/MyDrive/yolov8_test/train/images/IMG_5066_png.rf.27ff3d69cc9d11f8f48950c2a2b8cd17.jpg  \n",
            " extracting: /content/drive/MyDrive/yolov8_test/train/images/IMG_5067_png.rf.16460a92c33499faab7128ffb3a34613.jpg  \n",
            " extracting: /content/drive/MyDrive/yolov8_test/train/images/IMG_5068_png.rf.c4b02ddb65924f2331f6a960d98d0ce3.jpg  \n",
            " extracting: /content/drive/MyDrive/yolov8_test/train/images/IMG_5069_png.rf.a80388c7d556073b1ef300b00399325a.jpg  \n",
            " extracting: /content/drive/MyDrive/yolov8_test/train/images/IMG_5070_png.rf.ef45acf091aaae551bc5531ca6b970d3.jpg  \n",
            " extracting: /content/drive/MyDrive/yolov8_test/train/images/IMG_5071_png.rf.6ee066e2c1f64369d31a0cb593999fb4.jpg  \n",
            " extracting: /content/drive/MyDrive/yolov8_test/train/images/IMG_5072_png.rf.d844d7660ddffd8db2c1affa208fec2e.jpg  \n",
            " extracting: /content/drive/MyDrive/yolov8_test/train/images/IMG_5073_png.rf.a054deda95e2ecf4cf1d1f4c91ba5c4d.jpg  \n",
            " extracting: /content/drive/MyDrive/yolov8_test/train/images/IMG_5074_png.rf.fd7a7a2e53442d7b235ad620a072b687.jpg  \n",
            " extracting: /content/drive/MyDrive/yolov8_test/train/images/IMG_5075_png.rf.8eb6f2ee6b9aa79fc403cb62246d3b22.jpg  \n",
            " extracting: /content/drive/MyDrive/yolov8_test/train/images/IMG_5076_png.rf.745c71f31103bb8ac595047c22a34d18.jpg  \n",
            " extracting: /content/drive/MyDrive/yolov8_test/train/images/IMG_5079_png.rf.ea49d2109d569976935eaea7511d6a30.jpg  \n",
            " extracting: /content/drive/MyDrive/yolov8_test/train/images/IMG_5080_png.rf.84388a8a38c15bf5ce78f187fedcf7c6.jpg  \n",
            " extracting: /content/drive/MyDrive/yolov8_test/train/images/IMG_5082_png.rf.ebd7e9a37cc63b469018b0fe046292ad.jpg  \n",
            " extracting: /content/drive/MyDrive/yolov8_test/train/images/IMG_5083_png.rf.affd49369a79e2973d29ab0f3b3a5ad2.jpg  \n",
            " extracting: /content/drive/MyDrive/yolov8_test/train/images/IMG_5084_png.rf.42b61395eb759a4df6e27ad1ef756cfb.jpg  \n",
            " extracting: /content/drive/MyDrive/yolov8_test/train/images/IMG_5085_png.rf.4d58e1befad466831c134bd23ebe0cfc.jpg  \n",
            " extracting: /content/drive/MyDrive/yolov8_test/train/images/IMG_5086_png.rf.5c93ee6f95f57a9e19edf1e3d481f9b0.jpg  \n",
            " extracting: /content/drive/MyDrive/yolov8_test/train/images/IMG_5087_png.rf.ee5c1a6830e4cbaaa32707626a02b8c9.jpg  \n",
            " extracting: /content/drive/MyDrive/yolov8_test/train/images/IMG_5088_png.rf.b3e9eae27c68c406daf847765f022916.jpg  \n",
            " extracting: /content/drive/MyDrive/yolov8_test/train/images/IMG_5089_png.rf.dd894c2088ea306be02cff7dfda1dc25.jpg  \n",
            " extracting: /content/drive/MyDrive/yolov8_test/train/images/IMG_5090_png.rf.5235d0b97ad4285ebdbe0d6166b6af04.jpg  \n",
            " extracting: /content/drive/MyDrive/yolov8_test/train/images/IMG_5091_png.rf.d044df852bd669e5c71e9092a2c6cc86.jpg  \n",
            " extracting: /content/drive/MyDrive/yolov8_test/train/images/IMG_5092_png.rf.ea9cbe5290a3e19ebc551191a8544680.jpg  \n",
            " extracting: /content/drive/MyDrive/yolov8_test/train/images/IMG_5094_png.rf.b95775417ca5414cb794e8a8db9f0f4f.jpg  \n",
            " extracting: /content/drive/MyDrive/yolov8_test/train/images/IMG_5096_png.rf.5227bbccbbc8f677c050543738620443.jpg  \n",
            " extracting: /content/drive/MyDrive/yolov8_test/train/images/IMG_5097_png.rf.245224aee001eeb0ee40d281cb58b15b.jpg  \n",
            " extracting: /content/drive/MyDrive/yolov8_test/train/images/IMG_5099_png.rf.617268b1fd615b92f1513351a66a0b91.jpg  \n",
            " extracting: /content/drive/MyDrive/yolov8_test/train/images/IMG_5100_png.rf.9d37a298fec354f478a97ad5d9599b04.jpg  \n",
            " extracting: /content/drive/MyDrive/yolov8_test/train/images/IMG_5101_png.rf.eb73df9f8b71191611f2c9e156809d31.jpg  \n",
            " extracting: /content/drive/MyDrive/yolov8_test/train/images/IMG_5102_png.rf.9f1398ff83ada18df67c944ba29f9b86.jpg  \n",
            " extracting: /content/drive/MyDrive/yolov8_test/train/images/IMG_5103_png.rf.efe61f0f3aa67ed4e5944f1f05e1957c.jpg  \n",
            " extracting: /content/drive/MyDrive/yolov8_test/train/images/IMG_5104_png.rf.382bc1f150775ef13130bfaf8f5d63e9.jpg  \n",
            " extracting: /content/drive/MyDrive/yolov8_test/train/images/IMG_5105_png.rf.511768b8c480a4b212df29469cfbb03d.jpg  \n",
            " extracting: /content/drive/MyDrive/yolov8_test/train/images/IMG_5106_png.rf.5ef79baee04f9e925efb4a6fb533289b.jpg  \n",
            " extracting: /content/drive/MyDrive/yolov8_test/train/images/IMG_5107_png.rf.055acd99b91e384958d04f8791930e0c.jpg  \n",
            " extracting: /content/drive/MyDrive/yolov8_test/train/images/IMG_5108_png.rf.2ce2b18e4d798637c9db128bb9f147e3.jpg  \n",
            " extracting: /content/drive/MyDrive/yolov8_test/train/images/IMG_5109_png.rf.2c0f63d2d58113af9732e3d2bdac7ea2.jpg  \n",
            " extracting: /content/drive/MyDrive/yolov8_test/train/images/IMG_5110_png.rf.bca433408fdc34bab056203555da43a7.jpg  \n",
            " extracting: /content/drive/MyDrive/yolov8_test/train/images/IMG_5111_png.rf.d2b6bd50529f9b8aaa37abf069e60980.jpg  \n",
            " extracting: /content/drive/MyDrive/yolov8_test/train/images/IMG_5113_png.rf.b176024442f737602498e9267dbabd1a.jpg  \n",
            " extracting: /content/drive/MyDrive/yolov8_test/train/images/IMG_5114_png.rf.8074060505acd6f03d1e35d8e7b7ccc4.jpg  \n",
            " extracting: /content/drive/MyDrive/yolov8_test/train/images/IMG_5115_png.rf.bfef565f53092cc3dec025d5baf2f634.jpg  \n",
            " extracting: /content/drive/MyDrive/yolov8_test/train/images/IMG_5116_png.rf.19ecc3ece5af59559e69525d1744668f.jpg  \n",
            " extracting: /content/drive/MyDrive/yolov8_test/train/images/IMG_5117_png.rf.2f8ac0e0b8d5e5e2a9519b0e18869b74.jpg  \n",
            " extracting: /content/drive/MyDrive/yolov8_test/train/images/IMG_5118_png.rf.bc6ede36e7d2be8088210337c02a175f.jpg  \n",
            " extracting: /content/drive/MyDrive/yolov8_test/train/images/IMG_5120_png.rf.d9cb7d761b6dad36b7eae5d7199b712c.jpg  \n",
            " extracting: /content/drive/MyDrive/yolov8_test/train/images/IMG_5121_png.rf.a85c512c7a6a5f4c06ea8bbfcc81fbd1.jpg  \n",
            " extracting: /content/drive/MyDrive/yolov8_test/train/images/IMG_5122_png.rf.21800514cbe075d489a9c3bcb152feb9.jpg  \n",
            " extracting: /content/drive/MyDrive/yolov8_test/train/images/IMG_5123_png.rf.0ed5a3f66f35c5d01f169cc80ace4b5b.jpg  \n",
            " extracting: /content/drive/MyDrive/yolov8_test/train/images/IMG_5124_png.rf.3f81ce5936b202493fbc322f96d54f27.jpg  \n",
            " extracting: /content/drive/MyDrive/yolov8_test/train/images/IMG_5125_png.rf.6f84d4f595f255c0b020ae87f898e193.jpg  \n",
            " extracting: /content/drive/MyDrive/yolov8_test/train/images/IMG_5128_png.rf.710b25310eea2a0d1bb051b526f36bcc.jpg  \n",
            " extracting: /content/drive/MyDrive/yolov8_test/train/images/IMG_5129_png.rf.db8dc808f831c72a3d45d9a65e368196.jpg  \n",
            " extracting: /content/drive/MyDrive/yolov8_test/train/images/IMG_5131_png.rf.7bee2ea607ddfacabe91902e044113db.jpg  \n",
            " extracting: /content/drive/MyDrive/yolov8_test/train/images/IMG_5132_png.rf.047bee4d9fccfcbe82369f422e32be96.jpg  \n",
            " extracting: /content/drive/MyDrive/yolov8_test/train/images/IMG_5133_png.rf.55c9b7a9749fcc75f8132b4d2d6e6c7a.jpg  \n",
            " extracting: /content/drive/MyDrive/yolov8_test/train/images/IMG_5134_png.rf.7dacbe6e6b58b03b2ba23a7097c20455.jpg  \n",
            " extracting: /content/drive/MyDrive/yolov8_test/train/images/IMG_5135_png.rf.50d51a4ac029e96bf5fd88a0a074e861.jpg  \n",
            " extracting: /content/drive/MyDrive/yolov8_test/train/images/IMG_5136_png.rf.ffd894badb4edc05244748507e9cb374.jpg  \n",
            " extracting: /content/drive/MyDrive/yolov8_test/train/images/IMG_5137_png.rf.e5f47abc3f3002618fb1793a567671b7.jpg  \n",
            " extracting: /content/drive/MyDrive/yolov8_test/train/images/IMG_5138_png.rf.0698827907c918201c236f08c3e353a4.jpg  \n",
            " extracting: /content/drive/MyDrive/yolov8_test/train/images/IMG_5139_png.rf.70eeea149c1ca70c65f4ea5ce117217b.jpg  \n",
            " extracting: /content/drive/MyDrive/yolov8_test/train/images/IMG_5140_png.rf.5bf9ad552909e9dd6d8692986ea13aa5.jpg  \n",
            " extracting: /content/drive/MyDrive/yolov8_test/train/images/IMG_5141_png.rf.c3f0e5f76ba7e8d8df6cec11c77fe848.jpg  \n",
            " extracting: /content/drive/MyDrive/yolov8_test/train/images/IMG_5142_png.rf.51835ae91e0f0625c8cde4bb3f01c136.jpg  \n",
            " extracting: /content/drive/MyDrive/yolov8_test/train/images/IMG_5144_png.rf.a3643c47e09a818544e87dd92b0b9aae.jpg  \n",
            " extracting: /content/drive/MyDrive/yolov8_test/train/images/IMG_5145_png.rf.3ea71ee06863c79e8c57c7ceb8513957.jpg  \n",
            " extracting: /content/drive/MyDrive/yolov8_test/train/images/IMG_5147_png.rf.473c87b8dc28b51ccf0dbaa76c454f9b.jpg  \n",
            " extracting: /content/drive/MyDrive/yolov8_test/train/images/IMG_5148_png.rf.2c6cab3f82c6b4e3dbb9cbef06e0a263.jpg  \n",
            " extracting: /content/drive/MyDrive/yolov8_test/train/images/IMG_5151_png.rf.5633a01775a5da2a9406d0ab181d34fd.jpg  \n",
            " extracting: /content/drive/MyDrive/yolov8_test/train/images/IMG_5152_png.rf.abd7a20427b82f7968e6a1f0dfb339c6.jpg  \n",
            " extracting: /content/drive/MyDrive/yolov8_test/train/images/IMG_5153_png.rf.013e23cd6e4d64ddb8f35168893e36f3.jpg  \n",
            " extracting: /content/drive/MyDrive/yolov8_test/train/images/IMG_5154_png.rf.6d0d0bf2344f80792da9862210baacdf.jpg  \n",
            " extracting: /content/drive/MyDrive/yolov8_test/train/images/IMG_5155_png.rf.dff76d9a857d7d3eac38a989f86a258b.jpg  \n",
            " extracting: /content/drive/MyDrive/yolov8_test/train/images/IMG_5156_png.rf.afcf1bf4979bcee9fa833b7e5cbda807.jpg  \n",
            " extracting: /content/drive/MyDrive/yolov8_test/train/images/IMG_5157_png.rf.3f771794cdbdc70ac425a9383fe6925b.jpg  \n",
            " extracting: /content/drive/MyDrive/yolov8_test/train/images/IMG_5158_png.rf.2eabaa73e2be235ec700a836e3d24a23.jpg  \n",
            " extracting: /content/drive/MyDrive/yolov8_test/train/images/IMG_5159_png.rf.e8b9ef8054dca08120ee6bf454270545.jpg  \n",
            " extracting: /content/drive/MyDrive/yolov8_test/train/images/IMG_5160_png.rf.890020a2f97d420ceeb25c1679e2d72e.jpg  \n",
            " extracting: /content/drive/MyDrive/yolov8_test/train/images/IMG_5161_png.rf.08b880d35af29637a958cc12348691f8.jpg  \n",
            " extracting: /content/drive/MyDrive/yolov8_test/train/images/IMG_5162_png.rf.57023edd5a02025326efba72a9d02b61.jpg  \n",
            " extracting: /content/drive/MyDrive/yolov8_test/train/images/IMG_5164_png.rf.49914687ba17742764d8c32a0452d094.jpg  \n",
            " extracting: /content/drive/MyDrive/yolov8_test/train/images/IMG_5166_png.rf.0daa13cb97583dfdad45efa14f3fc010.jpg  \n",
            " extracting: /content/drive/MyDrive/yolov8_test/train/images/IMG_5167_png.rf.39c1cc699b1845d437eb9607b44cc2e6.jpg  \n",
            " extracting: /content/drive/MyDrive/yolov8_test/train/images/IMG_5168_png.rf.fdd0951f4a29473cafcfc391a5b61a5f.jpg  \n",
            " extracting: /content/drive/MyDrive/yolov8_test/train/images/IMG_5169_png.rf.f5ea9bc749ccc5344b404f032c91afe0.jpg  \n",
            " extracting: /content/drive/MyDrive/yolov8_test/train/images/IMG_5170_png.rf.346a3aac9cd2aaf79105c4ce1a8a1580.jpg  \n",
            " extracting: /content/drive/MyDrive/yolov8_test/train/images/IMG_5171_png.rf.a6576ec9daafcebefb469e06edc29d5f.jpg  \n",
            " extracting: /content/drive/MyDrive/yolov8_test/train/images/IMG_5172_png.rf.9cfff7da6cfd8e86321e4fa15a5210e1.jpg  \n",
            " extracting: /content/drive/MyDrive/yolov8_test/train/images/IMG_5173_png.rf.77f5e2548e702fd3c61cdd141aa1cf07.jpg  \n",
            " extracting: /content/drive/MyDrive/yolov8_test/train/images/IMG_5175_png.rf.da33653ef3425e5fe2a7351dc557a5bf.jpg  \n",
            " extracting: /content/drive/MyDrive/yolov8_test/train/images/IMG_5176_png.rf.f6237617f835b7b73454d2a9ca45717c.jpg  \n",
            " extracting: /content/drive/MyDrive/yolov8_test/train/images/IMG_5177_png.rf.8c6b89bfdfa420239abe682237ec834f.jpg  \n",
            " extracting: /content/drive/MyDrive/yolov8_test/train/images/IMG_5178_png.rf.da24597911a21287fd3c2b97ad52e418.jpg  \n",
            " extracting: /content/drive/MyDrive/yolov8_test/train/images/IMG_5179_png.rf.c8ca9e55cf4a89c780ab3a267f2093d1.jpg  \n",
            " extracting: /content/drive/MyDrive/yolov8_test/train/images/IMG_5180_png.rf.423f74b91b2a9a73e6d9d433b50b6225.jpg  \n",
            " extracting: /content/drive/MyDrive/yolov8_test/train/images/IMG_5181_png.rf.0afea99063c428f2828dad862fdae216.jpg  \n",
            " extracting: /content/drive/MyDrive/yolov8_test/train/images/IMG_5182_png.rf.c98671c13e5e85c8ee76975e47ba0ec9.jpg  \n",
            " extracting: /content/drive/MyDrive/yolov8_test/train/images/IMG_5183_png.rf.4b5dbec43f2a8db9277ddea3987874f7.jpg  \n",
            " extracting: /content/drive/MyDrive/yolov8_test/train/images/IMG_5184_png.rf.d645989d3f747cad41650c86546a4625.jpg  \n",
            " extracting: /content/drive/MyDrive/yolov8_test/train/images/IMG_5185_png.rf.2991569500ae6bee38080e1edb4d1171.jpg  \n",
            " extracting: /content/drive/MyDrive/yolov8_test/train/images/IMG_5186_png.rf.fcfa9390a3894fd46ad8102faf193a77.jpg  \n",
            " extracting: /content/drive/MyDrive/yolov8_test/train/images/IMG_5187_png.rf.26791b4a431f4857908c0655ea1274c8.jpg  \n",
            " extracting: /content/drive/MyDrive/yolov8_test/train/images/IMG_5188_png.rf.b02dc473a95109bbc21ffadb52bc69b4.jpg  \n",
            " extracting: /content/drive/MyDrive/yolov8_test/train/images/IMG_5189_png.rf.73ae50da668e54d01bb3f0f1ca2ada6b.jpg  \n",
            " extracting: /content/drive/MyDrive/yolov8_test/train/images/IMG_5191_png.rf.5dddcc86df1cfe63ea2de89ff149baa9.jpg  \n",
            " extracting: /content/drive/MyDrive/yolov8_test/train/images/IMG_5192_png.rf.75c917facb76d7c9a0915d7bf48a36bd.jpg  \n",
            " extracting: /content/drive/MyDrive/yolov8_test/train/images/IMG_5193_png.rf.ce5bd117737a609e59bf88aace1560e5.jpg  \n",
            " extracting: /content/drive/MyDrive/yolov8_test/train/images/IMG_5194_png.rf.c2bc13f2a3d9e6ee23d21cc2bf9d3d22.jpg  \n",
            " extracting: /content/drive/MyDrive/yolov8_test/train/images/IMG_5196_png.rf.73ac4241b435fb01f66a684c0ca62d10.jpg  \n",
            " extracting: /content/drive/MyDrive/yolov8_test/train/images/IMG_5197_png.rf.61d0803901ca3bf895a4765f1e0b30c0.jpg  \n",
            " extracting: /content/drive/MyDrive/yolov8_test/train/images/IMG_5198_png.rf.e76267b9076ccf105846354449977b2a.jpg  \n",
            " extracting: /content/drive/MyDrive/yolov8_test/train/images/IMG_5200_png.rf.bf904f6b166241ae1493f3ac0ab3c113.jpg  \n",
            " extracting: /content/drive/MyDrive/yolov8_test/train/images/IMG_5201_png.rf.111ed9412d3936679f2e4c40db3e258f.jpg  \n",
            " extracting: /content/drive/MyDrive/yolov8_test/train/images/IMG_5202_png.rf.e8a84dcade487c3e6f801692eb794410.jpg  \n",
            " extracting: /content/drive/MyDrive/yolov8_test/train/images/IMG_5203_png.rf.63b467487153607506ccde8c6297c17e.jpg  \n",
            "   creating: /content/drive/MyDrive/yolov8_test/train/labels/\n",
            "  inflating: /content/drive/MyDrive/yolov8_test/train/labels/IMG_5004_png.rf.b1466d6c97ed8e6b13023bba0b59d4a0.txt  \n",
            "  inflating: /content/drive/MyDrive/yolov8_test/train/labels/IMG_5005_png.rf.5bd5b88bdb7566fd9b093e82d3cf3cb6.txt  \n",
            "  inflating: /content/drive/MyDrive/yolov8_test/train/labels/IMG_5007_png.rf.9a51db50204f5bd63591cc7c7ebef511.txt  \n",
            "  inflating: /content/drive/MyDrive/yolov8_test/train/labels/IMG_5008_png.rf.e24fa8c0e3815f1ce33b54e6f9019a00.txt  \n",
            "  inflating: /content/drive/MyDrive/yolov8_test/train/labels/IMG_5009_png.rf.5c198d718f03f3bc0823a8615ce8a7ca.txt  \n",
            "  inflating: /content/drive/MyDrive/yolov8_test/train/labels/IMG_5010_png.rf.14aafe3567ae21bc9bbc5cf302e7e2e1.txt  \n",
            "  inflating: /content/drive/MyDrive/yolov8_test/train/labels/IMG_5011_png.rf.8a20e95d363668df7aabb3103c9b6525.txt  \n",
            "  inflating: /content/drive/MyDrive/yolov8_test/train/labels/IMG_5013_png.rf.e600f37cbf26923cf1695f7d38e47ec6.txt  \n",
            "  inflating: /content/drive/MyDrive/yolov8_test/train/labels/IMG_5014_png.rf.a926c7822fd64a661fac8aadb4a481dc.txt  \n",
            "  inflating: /content/drive/MyDrive/yolov8_test/train/labels/IMG_5015_png.rf.fe7041b5cc4738a7eb39ba14933d3d37.txt  \n",
            "  inflating: /content/drive/MyDrive/yolov8_test/train/labels/IMG_5016_png.rf.f2bd365636b42d508d5236068acdc345.txt  \n",
            "  inflating: /content/drive/MyDrive/yolov8_test/train/labels/IMG_5017_png.rf.433c13d63fc77328fb0aa7a580d6a826.txt  \n",
            "  inflating: /content/drive/MyDrive/yolov8_test/train/labels/IMG_5018_png.rf.caa3b4bc9932d09b82f5b49181c305a9.txt  \n",
            "  inflating: /content/drive/MyDrive/yolov8_test/train/labels/IMG_5020_png.rf.bdd51e7ea734f408730189cefd3d3327.txt  \n",
            "  inflating: /content/drive/MyDrive/yolov8_test/train/labels/IMG_5022_png.rf.5a579fc5c46d5a30b727f496830bab3b.txt  \n",
            "  inflating: /content/drive/MyDrive/yolov8_test/train/labels/IMG_5024_png.rf.fd4cf53ca1da2616efb006d7434d9193.txt  \n",
            "  inflating: /content/drive/MyDrive/yolov8_test/train/labels/IMG_5025_png.rf.57a568e76af50096db0e29e32a86b3e3.txt  \n",
            "  inflating: /content/drive/MyDrive/yolov8_test/train/labels/IMG_5026_png.rf.dad254d52e54e7cbc9a1df69fe67c378.txt  \n",
            "  inflating: /content/drive/MyDrive/yolov8_test/train/labels/IMG_5027_png.rf.e378bb29e415a5e50fbb5a967758542a.txt  \n",
            " extracting: /content/drive/MyDrive/yolov8_test/train/labels/IMG_5028_png.rf.ae8a5b32df48fbd74230a7d0ec999abe.txt  \n",
            "  inflating: /content/drive/MyDrive/yolov8_test/train/labels/IMG_5029_png.rf.3816dc85e9de008a4344044f9dafb599.txt  \n",
            "  inflating: /content/drive/MyDrive/yolov8_test/train/labels/IMG_5030_png.rf.782e171e40f28b6319138fe4bb055727.txt  \n",
            "  inflating: /content/drive/MyDrive/yolov8_test/train/labels/IMG_5031_png.rf.f8a2b4786e14d74b0b5dae01e4315ce6.txt  \n",
            " extracting: /content/drive/MyDrive/yolov8_test/train/labels/IMG_5032_png.rf.9915a51a834a6b0fe310f544a2d23a2c.txt  \n",
            "  inflating: /content/drive/MyDrive/yolov8_test/train/labels/IMG_5033_png.rf.b1c104e0f6a0eb62742d7fad16b80088.txt  \n",
            "  inflating: /content/drive/MyDrive/yolov8_test/train/labels/IMG_5034_png.rf.4ae12b8ff35b472f0b74e22dd3e8a060.txt  \n",
            "  inflating: /content/drive/MyDrive/yolov8_test/train/labels/IMG_5035_png.rf.7aa03090e0815a8ddcf11b26da3419d2.txt  \n",
            "  inflating: /content/drive/MyDrive/yolov8_test/train/labels/IMG_5036_png.rf.1b7410d2460f6f94fd31f43f0d599676.txt  \n",
            "  inflating: /content/drive/MyDrive/yolov8_test/train/labels/IMG_5037_png.rf.f29be9db1fa27ccb42c235d08de7b330.txt  \n",
            "  inflating: /content/drive/MyDrive/yolov8_test/train/labels/IMG_5038_png.rf.b54ce2bdc63c876cd9a90f8d251039a4.txt  \n",
            "  inflating: /content/drive/MyDrive/yolov8_test/train/labels/IMG_5040_png.rf.287db53a7efac83c22a2eab623df0477.txt  \n",
            "  inflating: /content/drive/MyDrive/yolov8_test/train/labels/IMG_5041_png.rf.6b93617d3d57af9d9809e8df50df675c.txt  \n",
            "  inflating: /content/drive/MyDrive/yolov8_test/train/labels/IMG_5042_png.rf.12d5c1ede21069d5dfe1452812273996.txt  \n",
            "  inflating: /content/drive/MyDrive/yolov8_test/train/labels/IMG_5043_png.rf.19460a156d68b8b5119a7c46f34a785e.txt  \n",
            "  inflating: /content/drive/MyDrive/yolov8_test/train/labels/IMG_5044_png.rf.52cf4afb71e1e0ea59b3432d8469f980.txt  \n",
            "  inflating: /content/drive/MyDrive/yolov8_test/train/labels/IMG_5045_png.rf.a637a4b8642be8b5da4e9df3b7e7c297.txt  \n",
            "  inflating: /content/drive/MyDrive/yolov8_test/train/labels/IMG_5046_png.rf.8c5cb83c787239571d4cf6d33755846e.txt  \n",
            "  inflating: /content/drive/MyDrive/yolov8_test/train/labels/IMG_5047_png.rf.6ab8470ce7bdb5eefe31ce18dc70137b.txt  \n",
            "  inflating: /content/drive/MyDrive/yolov8_test/train/labels/IMG_5048_png.rf.babf5367845a8858de18742aaf496481.txt  \n",
            " extracting: /content/drive/MyDrive/yolov8_test/train/labels/IMG_5049_png.rf.d8ba3a6e20171df70b41b6c64cafc6e8.txt  \n",
            " extracting: /content/drive/MyDrive/yolov8_test/train/labels/IMG_5050_png.rf.f4482a4289e7b8772252bd994b15f471.txt  \n",
            "  inflating: /content/drive/MyDrive/yolov8_test/train/labels/IMG_5051_png.rf.0e426ac73b3cf0578875b1b6c64e8755.txt  \n",
            "  inflating: /content/drive/MyDrive/yolov8_test/train/labels/IMG_5052_png.rf.adcfdb4a559be7d8600abf674c5b7857.txt  \n",
            "  inflating: /content/drive/MyDrive/yolov8_test/train/labels/IMG_5053_png.rf.890ee829d34e43f8d5d58584755d52e1.txt  \n",
            "  inflating: /content/drive/MyDrive/yolov8_test/train/labels/IMG_5054_png.rf.fc0b8b4e6655879de6c8eddc49fe712a.txt  \n",
            "  inflating: /content/drive/MyDrive/yolov8_test/train/labels/IMG_5056_png.rf.fd981b1229b7f363eec18019b510750b.txt  \n",
            "  inflating: /content/drive/MyDrive/yolov8_test/train/labels/IMG_5059_png.rf.3878ac50f27a4a2f5728639811b09d4d.txt  \n",
            "  inflating: /content/drive/MyDrive/yolov8_test/train/labels/IMG_5060_png.rf.bb413395a5b0f20947db1ed2ec7b7195.txt  \n",
            "  inflating: /content/drive/MyDrive/yolov8_test/train/labels/IMG_5061_png.rf.b8d6f11a8ae8cb7f40be0e91d8d7252c.txt  \n",
            "  inflating: /content/drive/MyDrive/yolov8_test/train/labels/IMG_5062_png.rf.dbd1bc12d7f2f350ed54e572b30eb252.txt  \n",
            "  inflating: /content/drive/MyDrive/yolov8_test/train/labels/IMG_5063_png.rf.d8542cd412fad595d3d7033d5bc0304a.txt  \n",
            "  inflating: /content/drive/MyDrive/yolov8_test/train/labels/IMG_5064_png.rf.ecf9118c755af227451ee5d42f789a18.txt  \n",
            "  inflating: /content/drive/MyDrive/yolov8_test/train/labels/IMG_5065_png.rf.1c87c59577edc44e4dda9f615d3a80b1.txt  \n",
            "  inflating: /content/drive/MyDrive/yolov8_test/train/labels/IMG_5066_png.rf.27ff3d69cc9d11f8f48950c2a2b8cd17.txt  \n",
            "  inflating: /content/drive/MyDrive/yolov8_test/train/labels/IMG_5067_png.rf.16460a92c33499faab7128ffb3a34613.txt  \n",
            " extracting: /content/drive/MyDrive/yolov8_test/train/labels/IMG_5068_png.rf.c4b02ddb65924f2331f6a960d98d0ce3.txt  \n",
            "  inflating: /content/drive/MyDrive/yolov8_test/train/labels/IMG_5069_png.rf.a80388c7d556073b1ef300b00399325a.txt  \n",
            "  inflating: /content/drive/MyDrive/yolov8_test/train/labels/IMG_5070_png.rf.ef45acf091aaae551bc5531ca6b970d3.txt  \n",
            "  inflating: /content/drive/MyDrive/yolov8_test/train/labels/IMG_5071_png.rf.6ee066e2c1f64369d31a0cb593999fb4.txt  \n",
            "  inflating: /content/drive/MyDrive/yolov8_test/train/labels/IMG_5072_png.rf.d844d7660ddffd8db2c1affa208fec2e.txt  \n",
            "  inflating: /content/drive/MyDrive/yolov8_test/train/labels/IMG_5073_png.rf.a054deda95e2ecf4cf1d1f4c91ba5c4d.txt  \n",
            "  inflating: /content/drive/MyDrive/yolov8_test/train/labels/IMG_5074_png.rf.fd7a7a2e53442d7b235ad620a072b687.txt  \n",
            "  inflating: /content/drive/MyDrive/yolov8_test/train/labels/IMG_5075_png.rf.8eb6f2ee6b9aa79fc403cb62246d3b22.txt  \n",
            "  inflating: /content/drive/MyDrive/yolov8_test/train/labels/IMG_5076_png.rf.745c71f31103bb8ac595047c22a34d18.txt  \n",
            "  inflating: /content/drive/MyDrive/yolov8_test/train/labels/IMG_5079_png.rf.ea49d2109d569976935eaea7511d6a30.txt  \n",
            "  inflating: /content/drive/MyDrive/yolov8_test/train/labels/IMG_5080_png.rf.84388a8a38c15bf5ce78f187fedcf7c6.txt  \n",
            "  inflating: /content/drive/MyDrive/yolov8_test/train/labels/IMG_5082_png.rf.ebd7e9a37cc63b469018b0fe046292ad.txt  \n",
            " extracting: /content/drive/MyDrive/yolov8_test/train/labels/IMG_5083_png.rf.affd49369a79e2973d29ab0f3b3a5ad2.txt  \n",
            " extracting: /content/drive/MyDrive/yolov8_test/train/labels/IMG_5084_png.rf.42b61395eb759a4df6e27ad1ef756cfb.txt  \n",
            "  inflating: /content/drive/MyDrive/yolov8_test/train/labels/IMG_5085_png.rf.4d58e1befad466831c134bd23ebe0cfc.txt  \n",
            "  inflating: /content/drive/MyDrive/yolov8_test/train/labels/IMG_5086_png.rf.5c93ee6f95f57a9e19edf1e3d481f9b0.txt  \n",
            "  inflating: /content/drive/MyDrive/yolov8_test/train/labels/IMG_5087_png.rf.ee5c1a6830e4cbaaa32707626a02b8c9.txt  \n",
            "  inflating: /content/drive/MyDrive/yolov8_test/train/labels/IMG_5088_png.rf.b3e9eae27c68c406daf847765f022916.txt  \n",
            "  inflating: /content/drive/MyDrive/yolov8_test/train/labels/IMG_5089_png.rf.dd894c2088ea306be02cff7dfda1dc25.txt  \n",
            "  inflating: /content/drive/MyDrive/yolov8_test/train/labels/IMG_5090_png.rf.5235d0b97ad4285ebdbe0d6166b6af04.txt  \n",
            "  inflating: /content/drive/MyDrive/yolov8_test/train/labels/IMG_5091_png.rf.d044df852bd669e5c71e9092a2c6cc86.txt  \n",
            "  inflating: /content/drive/MyDrive/yolov8_test/train/labels/IMG_5092_png.rf.ea9cbe5290a3e19ebc551191a8544680.txt  \n",
            "  inflating: /content/drive/MyDrive/yolov8_test/train/labels/IMG_5094_png.rf.b95775417ca5414cb794e8a8db9f0f4f.txt  \n",
            " extracting: /content/drive/MyDrive/yolov8_test/train/labels/IMG_5096_png.rf.5227bbccbbc8f677c050543738620443.txt  \n",
            " extracting: /content/drive/MyDrive/yolov8_test/train/labels/IMG_5097_png.rf.245224aee001eeb0ee40d281cb58b15b.txt  \n",
            "  inflating: /content/drive/MyDrive/yolov8_test/train/labels/IMG_5099_png.rf.617268b1fd615b92f1513351a66a0b91.txt  \n",
            " extracting: /content/drive/MyDrive/yolov8_test/train/labels/IMG_5100_png.rf.9d37a298fec354f478a97ad5d9599b04.txt  \n",
            "  inflating: /content/drive/MyDrive/yolov8_test/train/labels/IMG_5101_png.rf.eb73df9f8b71191611f2c9e156809d31.txt  \n",
            "  inflating: /content/drive/MyDrive/yolov8_test/train/labels/IMG_5102_png.rf.9f1398ff83ada18df67c944ba29f9b86.txt  \n",
            "  inflating: /content/drive/MyDrive/yolov8_test/train/labels/IMG_5103_png.rf.efe61f0f3aa67ed4e5944f1f05e1957c.txt  \n",
            "  inflating: /content/drive/MyDrive/yolov8_test/train/labels/IMG_5104_png.rf.382bc1f150775ef13130bfaf8f5d63e9.txt  \n",
            "  inflating: /content/drive/MyDrive/yolov8_test/train/labels/IMG_5105_png.rf.511768b8c480a4b212df29469cfbb03d.txt  \n",
            "  inflating: /content/drive/MyDrive/yolov8_test/train/labels/IMG_5106_png.rf.5ef79baee04f9e925efb4a6fb533289b.txt  \n",
            " extracting: /content/drive/MyDrive/yolov8_test/train/labels/IMG_5107_png.rf.055acd99b91e384958d04f8791930e0c.txt  \n",
            "  inflating: /content/drive/MyDrive/yolov8_test/train/labels/IMG_5108_png.rf.2ce2b18e4d798637c9db128bb9f147e3.txt  \n",
            "  inflating: /content/drive/MyDrive/yolov8_test/train/labels/IMG_5109_png.rf.2c0f63d2d58113af9732e3d2bdac7ea2.txt  \n",
            "  inflating: /content/drive/MyDrive/yolov8_test/train/labels/IMG_5110_png.rf.bca433408fdc34bab056203555da43a7.txt  \n",
            "  inflating: /content/drive/MyDrive/yolov8_test/train/labels/IMG_5111_png.rf.d2b6bd50529f9b8aaa37abf069e60980.txt  \n",
            "  inflating: /content/drive/MyDrive/yolov8_test/train/labels/IMG_5113_png.rf.b176024442f737602498e9267dbabd1a.txt  \n",
            "  inflating: /content/drive/MyDrive/yolov8_test/train/labels/IMG_5114_png.rf.8074060505acd6f03d1e35d8e7b7ccc4.txt  \n",
            "  inflating: /content/drive/MyDrive/yolov8_test/train/labels/IMG_5115_png.rf.bfef565f53092cc3dec025d5baf2f634.txt  \n",
            "  inflating: /content/drive/MyDrive/yolov8_test/train/labels/IMG_5116_png.rf.19ecc3ece5af59559e69525d1744668f.txt  \n",
            "  inflating: /content/drive/MyDrive/yolov8_test/train/labels/IMG_5117_png.rf.2f8ac0e0b8d5e5e2a9519b0e18869b74.txt  \n",
            "  inflating: /content/drive/MyDrive/yolov8_test/train/labels/IMG_5118_png.rf.bc6ede36e7d2be8088210337c02a175f.txt  \n",
            "  inflating: /content/drive/MyDrive/yolov8_test/train/labels/IMG_5120_png.rf.d9cb7d761b6dad36b7eae5d7199b712c.txt  \n",
            "  inflating: /content/drive/MyDrive/yolov8_test/train/labels/IMG_5121_png.rf.a85c512c7a6a5f4c06ea8bbfcc81fbd1.txt  \n",
            "  inflating: /content/drive/MyDrive/yolov8_test/train/labels/IMG_5122_png.rf.21800514cbe075d489a9c3bcb152feb9.txt  \n",
            "  inflating: /content/drive/MyDrive/yolov8_test/train/labels/IMG_5123_png.rf.0ed5a3f66f35c5d01f169cc80ace4b5b.txt  \n",
            "  inflating: /content/drive/MyDrive/yolov8_test/train/labels/IMG_5124_png.rf.3f81ce5936b202493fbc322f96d54f27.txt  \n",
            "  inflating: /content/drive/MyDrive/yolov8_test/train/labels/IMG_5125_png.rf.6f84d4f595f255c0b020ae87f898e193.txt  \n",
            " extracting: /content/drive/MyDrive/yolov8_test/train/labels/IMG_5128_png.rf.710b25310eea2a0d1bb051b526f36bcc.txt  \n",
            "  inflating: /content/drive/MyDrive/yolov8_test/train/labels/IMG_5129_png.rf.db8dc808f831c72a3d45d9a65e368196.txt  \n",
            "  inflating: /content/drive/MyDrive/yolov8_test/train/labels/IMG_5131_png.rf.7bee2ea607ddfacabe91902e044113db.txt  \n",
            "  inflating: /content/drive/MyDrive/yolov8_test/train/labels/IMG_5132_png.rf.047bee4d9fccfcbe82369f422e32be96.txt  \n",
            "  inflating: /content/drive/MyDrive/yolov8_test/train/labels/IMG_5133_png.rf.55c9b7a9749fcc75f8132b4d2d6e6c7a.txt  \n",
            "  inflating: /content/drive/MyDrive/yolov8_test/train/labels/IMG_5134_png.rf.7dacbe6e6b58b03b2ba23a7097c20455.txt  \n",
            "  inflating: /content/drive/MyDrive/yolov8_test/train/labels/IMG_5135_png.rf.50d51a4ac029e96bf5fd88a0a074e861.txt  \n",
            " extracting: /content/drive/MyDrive/yolov8_test/train/labels/IMG_5136_png.rf.ffd894badb4edc05244748507e9cb374.txt  \n",
            "  inflating: /content/drive/MyDrive/yolov8_test/train/labels/IMG_5137_png.rf.e5f47abc3f3002618fb1793a567671b7.txt  \n",
            "  inflating: /content/drive/MyDrive/yolov8_test/train/labels/IMG_5138_png.rf.0698827907c918201c236f08c3e353a4.txt  \n",
            "  inflating: /content/drive/MyDrive/yolov8_test/train/labels/IMG_5139_png.rf.70eeea149c1ca70c65f4ea5ce117217b.txt  \n",
            "  inflating: /content/drive/MyDrive/yolov8_test/train/labels/IMG_5140_png.rf.5bf9ad552909e9dd6d8692986ea13aa5.txt  \n",
            "  inflating: /content/drive/MyDrive/yolov8_test/train/labels/IMG_5141_png.rf.c3f0e5f76ba7e8d8df6cec11c77fe848.txt  \n",
            "  inflating: /content/drive/MyDrive/yolov8_test/train/labels/IMG_5142_png.rf.51835ae91e0f0625c8cde4bb3f01c136.txt  \n",
            "  inflating: /content/drive/MyDrive/yolov8_test/train/labels/IMG_5144_png.rf.a3643c47e09a818544e87dd92b0b9aae.txt  \n",
            "  inflating: /content/drive/MyDrive/yolov8_test/train/labels/IMG_5145_png.rf.3ea71ee06863c79e8c57c7ceb8513957.txt  \n",
            "  inflating: /content/drive/MyDrive/yolov8_test/train/labels/IMG_5147_png.rf.473c87b8dc28b51ccf0dbaa76c454f9b.txt  \n",
            "  inflating: /content/drive/MyDrive/yolov8_test/train/labels/IMG_5148_png.rf.2c6cab3f82c6b4e3dbb9cbef06e0a263.txt  \n",
            "  inflating: /content/drive/MyDrive/yolov8_test/train/labels/IMG_5151_png.rf.5633a01775a5da2a9406d0ab181d34fd.txt  \n",
            "  inflating: /content/drive/MyDrive/yolov8_test/train/labels/IMG_5152_png.rf.abd7a20427b82f7968e6a1f0dfb339c6.txt  \n",
            "  inflating: /content/drive/MyDrive/yolov8_test/train/labels/IMG_5153_png.rf.013e23cd6e4d64ddb8f35168893e36f3.txt  \n",
            "  inflating: /content/drive/MyDrive/yolov8_test/train/labels/IMG_5154_png.rf.6d0d0bf2344f80792da9862210baacdf.txt  \n",
            "  inflating: /content/drive/MyDrive/yolov8_test/train/labels/IMG_5155_png.rf.dff76d9a857d7d3eac38a989f86a258b.txt  \n",
            "  inflating: /content/drive/MyDrive/yolov8_test/train/labels/IMG_5156_png.rf.afcf1bf4979bcee9fa833b7e5cbda807.txt  \n",
            "  inflating: /content/drive/MyDrive/yolov8_test/train/labels/IMG_5157_png.rf.3f771794cdbdc70ac425a9383fe6925b.txt  \n",
            "  inflating: /content/drive/MyDrive/yolov8_test/train/labels/IMG_5158_png.rf.2eabaa73e2be235ec700a836e3d24a23.txt  \n",
            " extracting: /content/drive/MyDrive/yolov8_test/train/labels/IMG_5159_png.rf.e8b9ef8054dca08120ee6bf454270545.txt  \n",
            "  inflating: /content/drive/MyDrive/yolov8_test/train/labels/IMG_5160_png.rf.890020a2f97d420ceeb25c1679e2d72e.txt  \n",
            "  inflating: /content/drive/MyDrive/yolov8_test/train/labels/IMG_5161_png.rf.08b880d35af29637a958cc12348691f8.txt  \n",
            "  inflating: /content/drive/MyDrive/yolov8_test/train/labels/IMG_5162_png.rf.57023edd5a02025326efba72a9d02b61.txt  \n",
            "  inflating: /content/drive/MyDrive/yolov8_test/train/labels/IMG_5164_png.rf.49914687ba17742764d8c32a0452d094.txt  \n",
            "  inflating: /content/drive/MyDrive/yolov8_test/train/labels/IMG_5166_png.rf.0daa13cb97583dfdad45efa14f3fc010.txt  \n",
            "  inflating: /content/drive/MyDrive/yolov8_test/train/labels/IMG_5167_png.rf.39c1cc699b1845d437eb9607b44cc2e6.txt  \n",
            "  inflating: /content/drive/MyDrive/yolov8_test/train/labels/IMG_5168_png.rf.fdd0951f4a29473cafcfc391a5b61a5f.txt  \n",
            "  inflating: /content/drive/MyDrive/yolov8_test/train/labels/IMG_5169_png.rf.f5ea9bc749ccc5344b404f032c91afe0.txt  \n",
            "  inflating: /content/drive/MyDrive/yolov8_test/train/labels/IMG_5170_png.rf.346a3aac9cd2aaf79105c4ce1a8a1580.txt  \n",
            "  inflating: /content/drive/MyDrive/yolov8_test/train/labels/IMG_5171_png.rf.a6576ec9daafcebefb469e06edc29d5f.txt  \n",
            "  inflating: /content/drive/MyDrive/yolov8_test/train/labels/IMG_5172_png.rf.9cfff7da6cfd8e86321e4fa15a5210e1.txt  \n",
            "  inflating: /content/drive/MyDrive/yolov8_test/train/labels/IMG_5173_png.rf.77f5e2548e702fd3c61cdd141aa1cf07.txt  \n",
            " extracting: /content/drive/MyDrive/yolov8_test/train/labels/IMG_5175_png.rf.da33653ef3425e5fe2a7351dc557a5bf.txt  \n",
            "  inflating: /content/drive/MyDrive/yolov8_test/train/labels/IMG_5176_png.rf.f6237617f835b7b73454d2a9ca45717c.txt  \n",
            "  inflating: /content/drive/MyDrive/yolov8_test/train/labels/IMG_5177_png.rf.8c6b89bfdfa420239abe682237ec834f.txt  \n",
            "  inflating: /content/drive/MyDrive/yolov8_test/train/labels/IMG_5178_png.rf.da24597911a21287fd3c2b97ad52e418.txt  \n",
            "  inflating: /content/drive/MyDrive/yolov8_test/train/labels/IMG_5179_png.rf.c8ca9e55cf4a89c780ab3a267f2093d1.txt  \n",
            "  inflating: /content/drive/MyDrive/yolov8_test/train/labels/IMG_5180_png.rf.423f74b91b2a9a73e6d9d433b50b6225.txt  \n",
            " extracting: /content/drive/MyDrive/yolov8_test/train/labels/IMG_5181_png.rf.0afea99063c428f2828dad862fdae216.txt  \n",
            "  inflating: /content/drive/MyDrive/yolov8_test/train/labels/IMG_5182_png.rf.c98671c13e5e85c8ee76975e47ba0ec9.txt  \n",
            "  inflating: /content/drive/MyDrive/yolov8_test/train/labels/IMG_5183_png.rf.4b5dbec43f2a8db9277ddea3987874f7.txt  \n",
            "  inflating: /content/drive/MyDrive/yolov8_test/train/labels/IMG_5184_png.rf.d645989d3f747cad41650c86546a4625.txt  \n",
            "  inflating: /content/drive/MyDrive/yolov8_test/train/labels/IMG_5185_png.rf.2991569500ae6bee38080e1edb4d1171.txt  \n",
            "  inflating: /content/drive/MyDrive/yolov8_test/train/labels/IMG_5186_png.rf.fcfa9390a3894fd46ad8102faf193a77.txt  \n",
            "  inflating: /content/drive/MyDrive/yolov8_test/train/labels/IMG_5187_png.rf.26791b4a431f4857908c0655ea1274c8.txt  \n",
            "  inflating: /content/drive/MyDrive/yolov8_test/train/labels/IMG_5188_png.rf.b02dc473a95109bbc21ffadb52bc69b4.txt  \n",
            "  inflating: /content/drive/MyDrive/yolov8_test/train/labels/IMG_5189_png.rf.73ae50da668e54d01bb3f0f1ca2ada6b.txt  \n",
            "  inflating: /content/drive/MyDrive/yolov8_test/train/labels/IMG_5191_png.rf.5dddcc86df1cfe63ea2de89ff149baa9.txt  \n",
            "  inflating: /content/drive/MyDrive/yolov8_test/train/labels/IMG_5192_png.rf.75c917facb76d7c9a0915d7bf48a36bd.txt  \n",
            "  inflating: /content/drive/MyDrive/yolov8_test/train/labels/IMG_5193_png.rf.ce5bd117737a609e59bf88aace1560e5.txt  \n",
            "  inflating: /content/drive/MyDrive/yolov8_test/train/labels/IMG_5194_png.rf.c2bc13f2a3d9e6ee23d21cc2bf9d3d22.txt  \n",
            "  inflating: /content/drive/MyDrive/yolov8_test/train/labels/IMG_5196_png.rf.73ac4241b435fb01f66a684c0ca62d10.txt  \n",
            "  inflating: /content/drive/MyDrive/yolov8_test/train/labels/IMG_5197_png.rf.61d0803901ca3bf895a4765f1e0b30c0.txt  \n",
            "  inflating: /content/drive/MyDrive/yolov8_test/train/labels/IMG_5198_png.rf.e76267b9076ccf105846354449977b2a.txt  \n",
            "  inflating: /content/drive/MyDrive/yolov8_test/train/labels/IMG_5200_png.rf.bf904f6b166241ae1493f3ac0ab3c113.txt  \n",
            "  inflating: /content/drive/MyDrive/yolov8_test/train/labels/IMG_5201_png.rf.111ed9412d3936679f2e4c40db3e258f.txt  \n",
            "  inflating: /content/drive/MyDrive/yolov8_test/train/labels/IMG_5202_png.rf.e8a84dcade487c3e6f801692eb794410.txt  \n",
            "  inflating: /content/drive/MyDrive/yolov8_test/train/labels/IMG_5203_png.rf.63b467487153607506ccde8c6297c17e.txt  \n",
            "   creating: /content/drive/MyDrive/yolov8_test/valid/\n",
            "   creating: /content/drive/MyDrive/yolov8_test/valid/images/\n",
            " extracting: /content/drive/MyDrive/yolov8_test/valid/images/IMG_5001_png.rf.2648a2e8ef1c25d0794014abb35e8538.jpg  \n",
            " extracting: /content/drive/MyDrive/yolov8_test/valid/images/IMG_5002_png.rf.aff5a292057356f1c7f82ca961371429.jpg  \n",
            " extracting: /content/drive/MyDrive/yolov8_test/valid/images/IMG_5003_png.rf.9fef48dbe44661f83ebacd26d6d17587.jpg  \n",
            " extracting: /content/drive/MyDrive/yolov8_test/valid/images/IMG_5006_png.rf.a55e07d9c57a392607f1099f18ed34cd.jpg  \n",
            " extracting: /content/drive/MyDrive/yolov8_test/valid/images/IMG_5012_png.rf.910dbfad1560228271b0b3084f42b6dc.jpg  \n",
            " extracting: /content/drive/MyDrive/yolov8_test/valid/images/IMG_5019_png.rf.e73b696904eb3e6acace0c62c4cc2fe6.jpg  \n",
            " extracting: /content/drive/MyDrive/yolov8_test/valid/images/IMG_5021_png.rf.9016a2dbdaedf71657c5335ebfd6eade.jpg  \n",
            " extracting: /content/drive/MyDrive/yolov8_test/valid/images/IMG_5023_png.rf.c86439b96e6297b557b4efdc05022081.jpg  \n",
            " extracting: /content/drive/MyDrive/yolov8_test/valid/images/IMG_5039_png.rf.1030ee0134e9dee7f83c50d8e9402c8e.jpg  \n",
            " extracting: /content/drive/MyDrive/yolov8_test/valid/images/IMG_5055_png.rf.c8563bfaa9bcb52b57b01c9258164163.jpg  \n",
            " extracting: /content/drive/MyDrive/yolov8_test/valid/images/IMG_5057_png.rf.99e36e5c1b9f25b06979c68beb19e880.jpg  \n",
            " extracting: /content/drive/MyDrive/yolov8_test/valid/images/IMG_5058_png.rf.43402c7b0816e4b5b1641ae1c86c3512.jpg  \n",
            " extracting: /content/drive/MyDrive/yolov8_test/valid/images/IMG_5077_png.rf.ce4d4dd01fedae6953132835f8fd4f5e.jpg  \n",
            " extracting: /content/drive/MyDrive/yolov8_test/valid/images/IMG_5078_png.rf.68c3dcf8e935c480ff5876cde0c24792.jpg  \n",
            " extracting: /content/drive/MyDrive/yolov8_test/valid/images/IMG_5081_png.rf.fad292ee9655be3dff7e3ab93adb6672.jpg  \n",
            " extracting: /content/drive/MyDrive/yolov8_test/valid/images/IMG_5093_png.rf.1570afd66a0da8a0d3d4c72fb0c0260a.jpg  \n",
            " extracting: /content/drive/MyDrive/yolov8_test/valid/images/IMG_5095_png.rf.86115161c475bfd0b66523c759a5f1c6.jpg  \n",
            " extracting: /content/drive/MyDrive/yolov8_test/valid/images/IMG_5098_png.rf.2054761c27b46fca26756ee4205fbc68.jpg  \n",
            " extracting: /content/drive/MyDrive/yolov8_test/valid/images/IMG_5112_png.rf.c6e51e58a3c9a9653f1f212dd92729fd.jpg  \n",
            " extracting: /content/drive/MyDrive/yolov8_test/valid/images/IMG_5119_png.rf.d6818ffff5647a2733ef7067efbd2148.jpg  \n",
            " extracting: /content/drive/MyDrive/yolov8_test/valid/images/IMG_5127_png.rf.d9fb8633861341d78669b3f3eb40517b.jpg  \n",
            " extracting: /content/drive/MyDrive/yolov8_test/valid/images/IMG_5130_png.rf.2e50ec84fd71608f0fac72200ff023bd.jpg  \n",
            " extracting: /content/drive/MyDrive/yolov8_test/valid/images/IMG_5143_png.rf.1910b0249dbc23312a2bfa86f37b9404.jpg  \n",
            " extracting: /content/drive/MyDrive/yolov8_test/valid/images/IMG_5149_png.rf.1d1019698ddd0c346f6d26aa6d16ebb9.jpg  \n",
            " extracting: /content/drive/MyDrive/yolov8_test/valid/images/IMG_5150_png.rf.27e89c7bb0057e4867fd207c83b1efa1.jpg  \n",
            " extracting: /content/drive/MyDrive/yolov8_test/valid/images/IMG_5163_png.rf.e9dea1bff624b1a9d68a94e68178f70e.jpg  \n",
            " extracting: /content/drive/MyDrive/yolov8_test/valid/images/IMG_5165_png.rf.c37fe277ded77c371637ddb12a07f8bb.jpg  \n",
            " extracting: /content/drive/MyDrive/yolov8_test/valid/images/IMG_5174_png.rf.53e0d6f291e15f78c29256e74d5db5af.jpg  \n",
            " extracting: /content/drive/MyDrive/yolov8_test/valid/images/IMG_5190_png.rf.b5aaed8eab71346bdeb7e9847d2ede63.jpg  \n",
            " extracting: /content/drive/MyDrive/yolov8_test/valid/images/IMG_5195_png.rf.ae3680454d290d54c88b80ef63b72771.jpg  \n",
            " extracting: /content/drive/MyDrive/yolov8_test/valid/images/IMG_5199_png.rf.a1f7be8e3854f61e967638ffaa5ec0b8.jpg  \n",
            "   creating: /content/drive/MyDrive/yolov8_test/valid/labels/\n",
            "  inflating: /content/drive/MyDrive/yolov8_test/valid/labels/IMG_5001_png.rf.2648a2e8ef1c25d0794014abb35e8538.txt  \n",
            "  inflating: /content/drive/MyDrive/yolov8_test/valid/labels/IMG_5002_png.rf.aff5a292057356f1c7f82ca961371429.txt  \n",
            " extracting: /content/drive/MyDrive/yolov8_test/valid/labels/IMG_5003_png.rf.9fef48dbe44661f83ebacd26d6d17587.txt  \n",
            "  inflating: /content/drive/MyDrive/yolov8_test/valid/labels/IMG_5006_png.rf.a55e07d9c57a392607f1099f18ed34cd.txt  \n",
            "  inflating: /content/drive/MyDrive/yolov8_test/valid/labels/IMG_5012_png.rf.910dbfad1560228271b0b3084f42b6dc.txt  \n",
            "  inflating: /content/drive/MyDrive/yolov8_test/valid/labels/IMG_5019_png.rf.e73b696904eb3e6acace0c62c4cc2fe6.txt  \n",
            " extracting: /content/drive/MyDrive/yolov8_test/valid/labels/IMG_5021_png.rf.9016a2dbdaedf71657c5335ebfd6eade.txt  \n",
            "  inflating: /content/drive/MyDrive/yolov8_test/valid/labels/IMG_5023_png.rf.c86439b96e6297b557b4efdc05022081.txt  \n",
            "  inflating: /content/drive/MyDrive/yolov8_test/valid/labels/IMG_5039_png.rf.1030ee0134e9dee7f83c50d8e9402c8e.txt  \n",
            "  inflating: /content/drive/MyDrive/yolov8_test/valid/labels/IMG_5055_png.rf.c8563bfaa9bcb52b57b01c9258164163.txt  \n",
            "  inflating: /content/drive/MyDrive/yolov8_test/valid/labels/IMG_5057_png.rf.99e36e5c1b9f25b06979c68beb19e880.txt  \n",
            "  inflating: /content/drive/MyDrive/yolov8_test/valid/labels/IMG_5058_png.rf.43402c7b0816e4b5b1641ae1c86c3512.txt  \n",
            " extracting: /content/drive/MyDrive/yolov8_test/valid/labels/IMG_5077_png.rf.ce4d4dd01fedae6953132835f8fd4f5e.txt  \n",
            " extracting: /content/drive/MyDrive/yolov8_test/valid/labels/IMG_5078_png.rf.68c3dcf8e935c480ff5876cde0c24792.txt  \n",
            " extracting: /content/drive/MyDrive/yolov8_test/valid/labels/IMG_5081_png.rf.fad292ee9655be3dff7e3ab93adb6672.txt  \n",
            "  inflating: /content/drive/MyDrive/yolov8_test/valid/labels/IMG_5093_png.rf.1570afd66a0da8a0d3d4c72fb0c0260a.txt  \n",
            "  inflating: /content/drive/MyDrive/yolov8_test/valid/labels/IMG_5095_png.rf.86115161c475bfd0b66523c759a5f1c6.txt  \n",
            " extracting: /content/drive/MyDrive/yolov8_test/valid/labels/IMG_5098_png.rf.2054761c27b46fca26756ee4205fbc68.txt  \n",
            "  inflating: /content/drive/MyDrive/yolov8_test/valid/labels/IMG_5112_png.rf.c6e51e58a3c9a9653f1f212dd92729fd.txt  \n",
            "  inflating: /content/drive/MyDrive/yolov8_test/valid/labels/IMG_5119_png.rf.d6818ffff5647a2733ef7067efbd2148.txt  \n",
            "  inflating: /content/drive/MyDrive/yolov8_test/valid/labels/IMG_5127_png.rf.d9fb8633861341d78669b3f3eb40517b.txt  \n",
            "  inflating: /content/drive/MyDrive/yolov8_test/valid/labels/IMG_5130_png.rf.2e50ec84fd71608f0fac72200ff023bd.txt  \n",
            "  inflating: /content/drive/MyDrive/yolov8_test/valid/labels/IMG_5143_png.rf.1910b0249dbc23312a2bfa86f37b9404.txt  \n",
            "  inflating: /content/drive/MyDrive/yolov8_test/valid/labels/IMG_5149_png.rf.1d1019698ddd0c346f6d26aa6d16ebb9.txt  \n",
            "  inflating: /content/drive/MyDrive/yolov8_test/valid/labels/IMG_5150_png.rf.27e89c7bb0057e4867fd207c83b1efa1.txt  \n",
            "  inflating: /content/drive/MyDrive/yolov8_test/valid/labels/IMG_5163_png.rf.e9dea1bff624b1a9d68a94e68178f70e.txt  \n",
            " extracting: /content/drive/MyDrive/yolov8_test/valid/labels/IMG_5165_png.rf.c37fe277ded77c371637ddb12a07f8bb.txt  \n",
            "  inflating: /content/drive/MyDrive/yolov8_test/valid/labels/IMG_5174_png.rf.53e0d6f291e15f78c29256e74d5db5af.txt  \n",
            "  inflating: /content/drive/MyDrive/yolov8_test/valid/labels/IMG_5190_png.rf.b5aaed8eab71346bdeb7e9847d2ede63.txt  \n",
            "  inflating: /content/drive/MyDrive/yolov8_test/valid/labels/IMG_5195_png.rf.ae3680454d290d54c88b80ef63b72771.txt  \n",
            "  inflating: /content/drive/MyDrive/yolov8_test/valid/labels/IMG_5199_png.rf.a1f7be8e3854f61e967638ffaa5ec0b8.txt  \n"
          ]
        }
      ],
      "source": [
        "# !unzip /content/drive/MyDrive/yolov8_test/whole_seat_images_annotate_ver_1_yolov8.zip -d /content/drive/MyDrive/yolov8_test"
      ]
    },
    {
      "cell_type": "code",
      "execution_count": 2,
      "metadata": {
        "id": "reeOCIFk3o_e"
      },
      "outputs": [],
      "source": [
        "image_dir = \"/home/fahadabul/mask_rcnn_skyhub/segment/images\"\n",
        "label_dir = \"/home/fahadabul/mask_rcnn_skyhub/segment/labels\"\n",
        "output_dir = \"/home/fahadabul/mask_rcnn_skyhub/segment/output\"\n",
        "model_save_path = os.path.join(output_dir, \"yolov8_trained.pt\")"
      ]
    },
    {
      "cell_type": "code",
      "execution_count": 4,
      "metadata": {
        "colab": {
          "base_uri": "https://localhost:8080/"
        },
        "id": "sx0W_lDo-RYF",
        "outputId": "8a102afd-161b-4e91-b9eb-f79a73c13488"
      },
      "outputs": [
        {
          "name": "stdout",
          "output_type": "stream",
          "text": [
            "Train images exist: True\n"
          ]
        }
      ],
      "source": [
        "image_dir_data = \"/home/fahadabul/mask_rcnn_skyhub/segment/data.yaml\"\n",
        "print(\"Train images exist:\", os.path.exists(image_dir_data))"
      ]
    },
    {
      "cell_type": "code",
      "execution_count": null,
      "metadata": {
        "colab": {
          "base_uri": "https://localhost:8080/"
        },
        "id": "zlWPmuL68Mii",
        "outputId": "780c1a45-6983-4f6f-f174-f259e886f788"
      },
      "outputs": [
        {
          "name": "stdout",
          "output_type": "stream",
          "text": [
            "Train images exist: True\n",
            "Valid images exist: True\n"
          ]
        }
      ],
      "source": [
        "# train_path = \"/content/drive/MyDrive/Colab_Notebooks/passenger_seat_yolo_training/yolo_v8/dataset/images/train\"\n",
        "# valid_path = \"/content/drive/MyDrive/Colab_Notebooks/passenger_seat_yolo_training/yolo_v8/dataset/images/valid\"\n",
        "\n",
        "# print(\"Train images exist:\", os.path.exists(train_path))\n",
        "# print(\"Valid images exist:\", os.path.exists(valid_path))"
      ]
    },
    {
      "cell_type": "code",
      "execution_count": 13,
      "metadata": {
        "id": "G5keSDfs3o_f"
      },
      "outputs": [],
      "source": [
        "data_yaml = {\n",
        "    \"train\": os.path.join(image_dir,\"train\"),\n",
        "    \"val\": os.path.join(image_dir,\"val\"),\n",
        "    \"nc\": 1,\n",
        "    \"names\": [\"seat\"]\n",
        "}\n"
      ]
    },
    {
      "cell_type": "code",
      "execution_count": 14,
      "metadata": {
        "id": "t3bVfBO23o_g"
      },
      "outputs": [],
      "source": [
        "with open(os.path.join(output_dir, \"dataset.yaml\"), \"w\") as yaml_file:\n",
        "    yaml.dump(data_yaml, yaml_file, default_flow_style=False)"
      ]
    },
    {
      "cell_type": "code",
      "execution_count": 15,
      "metadata": {
        "colab": {
          "base_uri": "https://localhost:8080/"
        },
        "id": "jcG1DxjQ55J8",
        "outputId": "1e10a16c-d7cb-4774-d863-04bcfef22d91"
      },
      "outputs": [],
      "source": [
        "# Train YOLOv8 Model\n",
        "model = YOLO('yolov8n-seg.pt')"
      ]
    },
    {
      "cell_type": "code",
      "execution_count": 16,
      "metadata": {
        "colab": {
          "base_uri": "https://localhost:8080/"
        },
        "id": "5lSVIHUu3o_g",
        "outputId": "6f6529d2-2d65-4e42-9508-d4d270bf292d"
      },
      "outputs": [
        {
          "name": "stdout",
          "output_type": "stream",
          "text": [
            "New https://pypi.org/project/ultralytics/8.3.99 available 😃 Update with 'pip install -U ultralytics'\n",
            "Ultralytics 8.3.89 🚀 Python-3.10.12 torch-2.6.0+cu124 CPU (Intel Core(TM) Ultra 7 165U)\n",
            "\u001b[34m\u001b[1mengine/trainer: \u001b[0mtask=segment, mode=train, model=yolov8n-seg.pt, data=/home/fahadabul/mask_rcnn_skyhub/segment/output/dataset.yaml, epochs=50, time=None, patience=100, batch=16, imgsz=640, save=True, save_period=-1, cache=False, device=cpu, workers=8, project=None, name=train5, exist_ok=False, pretrained=True, optimizer=auto, verbose=True, seed=0, deterministic=True, single_cls=False, rect=False, cos_lr=False, close_mosaic=10, resume=False, amp=True, fraction=1.0, profile=False, freeze=None, multi_scale=False, overlap_mask=True, mask_ratio=4, dropout=0.0, val=True, split=val, save_json=False, save_hybrid=False, conf=None, iou=0.7, max_det=300, half=False, dnn=False, plots=True, source=None, vid_stride=1, stream_buffer=False, visualize=False, augment=False, agnostic_nms=False, classes=None, retina_masks=False, embed=None, show=False, save_frames=False, save_txt=False, save_conf=False, save_crop=False, show_labels=True, show_conf=True, show_boxes=True, line_width=None, format=torchscript, keras=False, optimize=False, int8=False, dynamic=False, simplify=True, opset=None, workspace=None, nms=False, lr0=0.01, lrf=0.01, momentum=0.937, weight_decay=0.0005, warmup_epochs=3.0, warmup_momentum=0.8, warmup_bias_lr=0.1, box=7.5, cls=0.5, dfl=1.5, pose=12.0, kobj=1.0, nbs=64, hsv_h=0.015, hsv_s=0.7, hsv_v=0.4, degrees=0.0, translate=0.1, scale=0.5, shear=0.0, perspective=0.0, flipud=0.0, fliplr=0.5, bgr=0.0, mosaic=1.0, mixup=0.0, copy_paste=0.0, copy_paste_mode=flip, auto_augment=randaugment, erasing=0.4, crop_fraction=1.0, cfg=None, tracker=botsort.yaml, save_dir=runs/segment/train5\n",
            "Overriding model.yaml nc=80 with nc=1\n",
            "\n",
            "                   from  n    params  module                                       arguments                     \n",
            "  0                  -1  1       464  ultralytics.nn.modules.conv.Conv             [3, 16, 3, 2]                 \n",
            "  1                  -1  1      4672  ultralytics.nn.modules.conv.Conv             [16, 32, 3, 2]                \n",
            "  2                  -1  1      7360  ultralytics.nn.modules.block.C2f             [32, 32, 1, True]             \n",
            "  3                  -1  1     18560  ultralytics.nn.modules.conv.Conv             [32, 64, 3, 2]                \n",
            "  4                  -1  2     49664  ultralytics.nn.modules.block.C2f             [64, 64, 2, True]             \n",
            "  5                  -1  1     73984  ultralytics.nn.modules.conv.Conv             [64, 128, 3, 2]               \n",
            "  6                  -1  2    197632  ultralytics.nn.modules.block.C2f             [128, 128, 2, True]           \n",
            "  7                  -1  1    295424  ultralytics.nn.modules.conv.Conv             [128, 256, 3, 2]              \n",
            "  8                  -1  1    460288  ultralytics.nn.modules.block.C2f             [256, 256, 1, True]           \n",
            "  9                  -1  1    164608  ultralytics.nn.modules.block.SPPF            [256, 256, 5]                 \n",
            " 10                  -1  1         0  torch.nn.modules.upsampling.Upsample         [None, 2, 'nearest']          \n",
            " 11             [-1, 6]  1         0  ultralytics.nn.modules.conv.Concat           [1]                           \n",
            " 12                  -1  1    148224  ultralytics.nn.modules.block.C2f             [384, 128, 1]                 \n",
            " 13                  -1  1         0  torch.nn.modules.upsampling.Upsample         [None, 2, 'nearest']          \n",
            " 14             [-1, 4]  1         0  ultralytics.nn.modules.conv.Concat           [1]                           \n",
            " 15                  -1  1     37248  ultralytics.nn.modules.block.C2f             [192, 64, 1]                  \n",
            " 16                  -1  1     36992  ultralytics.nn.modules.conv.Conv             [64, 64, 3, 2]                \n",
            " 17            [-1, 12]  1         0  ultralytics.nn.modules.conv.Concat           [1]                           \n",
            " 18                  -1  1    123648  ultralytics.nn.modules.block.C2f             [192, 128, 1]                 \n",
            " 19                  -1  1    147712  ultralytics.nn.modules.conv.Conv             [128, 128, 3, 2]              \n",
            " 20             [-1, 9]  1         0  ultralytics.nn.modules.conv.Concat           [1]                           \n",
            " 21                  -1  1    493056  ultralytics.nn.modules.block.C2f             [384, 256, 1]                 \n",
            " 22        [15, 18, 21]  1   1004275  ultralytics.nn.modules.head.Segment          [1, 32, 64, [64, 128, 256]]   \n",
            "YOLOv8n-seg summary: 151 layers, 3,263,811 parameters, 3,263,795 gradients, 12.1 GFLOPs\n",
            "\n",
            "Transferred 381/417 items from pretrained weights\n",
            "\u001b[34m\u001b[1mTensorBoard: \u001b[0mStart with 'tensorboard --logdir runs/segment/train5', view at http://localhost:6006/\n",
            "Freezing layer 'model.22.dfl.conv.weight'\n"
          ]
        },
        {
          "name": "stderr",
          "output_type": "stream",
          "text": [
            "\u001b[34m\u001b[1mtrain: \u001b[0mScanning /home/fahadabul/mask_rcnn_skyhub/segment/labels/train.cache... 80 images, 0 backgrounds, 0 corrupt: 100%|██████████| 80/80 [00:00<?, ?it/s]"
          ]
        },
        {
          "name": "stdout",
          "output_type": "stream",
          "text": [
            "\u001b[34m\u001b[1mtrain: \u001b[0mWARNING ⚠️ /home/fahadabul/mask_rcnn_skyhub/segment/images/train/00153f40-image3588.jpg: corrupt JPEG restored and saved\n",
            "\u001b[34m\u001b[1mtrain: \u001b[0mWARNING ⚠️ /home/fahadabul/mask_rcnn_skyhub/segment/images/train/1397c31e-image3516.jpg: corrupt JPEG restored and saved\n",
            "\u001b[34m\u001b[1mtrain: \u001b[0mWARNING ⚠️ /home/fahadabul/mask_rcnn_skyhub/segment/images/train/17b500c1-image3511.jpg: corrupt JPEG restored and saved\n",
            "\u001b[34m\u001b[1mtrain: \u001b[0mWARNING ⚠️ /home/fahadabul/mask_rcnn_skyhub/segment/images/train/1844d568-image3575.jpg: corrupt JPEG restored and saved\n",
            "\u001b[34m\u001b[1mtrain: \u001b[0mWARNING ⚠️ /home/fahadabul/mask_rcnn_skyhub/segment/images/train/1b77cfa4-image3504.jpg: corrupt JPEG restored and saved\n",
            "\u001b[34m\u001b[1mtrain: \u001b[0mWARNING ⚠️ /home/fahadabul/mask_rcnn_skyhub/segment/images/train/1cd6e1d4-image3587.jpg: corrupt JPEG restored and saved\n",
            "\u001b[34m\u001b[1mtrain: \u001b[0mWARNING ⚠️ /home/fahadabul/mask_rcnn_skyhub/segment/images/train/2077d448-image3520.jpg: corrupt JPEG restored and saved\n",
            "\u001b[34m\u001b[1mtrain: \u001b[0mWARNING ⚠️ /home/fahadabul/mask_rcnn_skyhub/segment/images/train/234afc0c-image3532.jpg: corrupt JPEG restored and saved\n",
            "\u001b[34m\u001b[1mtrain: \u001b[0mWARNING ⚠️ /home/fahadabul/mask_rcnn_skyhub/segment/images/train/265ffe2f-image3576.jpg: corrupt JPEG restored and saved\n",
            "\u001b[34m\u001b[1mtrain: \u001b[0mWARNING ⚠️ /home/fahadabul/mask_rcnn_skyhub/segment/images/train/3c472e1e-image3533.jpg: corrupt JPEG restored and saved\n",
            "\u001b[34m\u001b[1mtrain: \u001b[0mWARNING ⚠️ /home/fahadabul/mask_rcnn_skyhub/segment/images/train/3df14709-image3522.jpg: corrupt JPEG restored and saved\n",
            "\u001b[34m\u001b[1mtrain: \u001b[0mWARNING ⚠️ /home/fahadabul/mask_rcnn_skyhub/segment/images/train/41ea54d0-image3524.jpg: corrupt JPEG restored and saved\n",
            "\u001b[34m\u001b[1mtrain: \u001b[0mWARNING ⚠️ /home/fahadabul/mask_rcnn_skyhub/segment/images/train/443b1a4d-image3505.jpg: corrupt JPEG restored and saved\n",
            "\u001b[34m\u001b[1mtrain: \u001b[0mWARNING ⚠️ /home/fahadabul/mask_rcnn_skyhub/segment/images/train/4bac9131-image3531.jpg: corrupt JPEG restored and saved\n",
            "\u001b[34m\u001b[1mtrain: \u001b[0mWARNING ⚠️ /home/fahadabul/mask_rcnn_skyhub/segment/images/train/515a6743-image3593.jpg: corrupt JPEG restored and saved\n",
            "\u001b[34m\u001b[1mtrain: \u001b[0mWARNING ⚠️ /home/fahadabul/mask_rcnn_skyhub/segment/images/train/5240a7c7-image3519.jpg: corrupt JPEG restored and saved\n",
            "\u001b[34m\u001b[1mtrain: \u001b[0mWARNING ⚠️ /home/fahadabul/mask_rcnn_skyhub/segment/images/train/56601b19-image3527.jpg: corrupt JPEG restored and saved\n",
            "\u001b[34m\u001b[1mtrain: \u001b[0mWARNING ⚠️ /home/fahadabul/mask_rcnn_skyhub/segment/images/train/56c91dc1-image3582.jpg: corrupt JPEG restored and saved\n",
            "\u001b[34m\u001b[1mtrain: \u001b[0mWARNING ⚠️ /home/fahadabul/mask_rcnn_skyhub/segment/images/train/6391a485-image3537.jpg: corrupt JPEG restored and saved\n",
            "\u001b[34m\u001b[1mtrain: \u001b[0mWARNING ⚠️ /home/fahadabul/mask_rcnn_skyhub/segment/images/train/64e2365b-image3590.jpg: corrupt JPEG restored and saved\n",
            "\u001b[34m\u001b[1mtrain: \u001b[0mWARNING ⚠️ /home/fahadabul/mask_rcnn_skyhub/segment/images/train/6aacf600-image3514.jpg: corrupt JPEG restored and saved\n",
            "\u001b[34m\u001b[1mtrain: \u001b[0mWARNING ⚠️ /home/fahadabul/mask_rcnn_skyhub/segment/images/train/6d8311ce-image3534.jpg: corrupt JPEG restored and saved\n",
            "\u001b[34m\u001b[1mtrain: \u001b[0mWARNING ⚠️ /home/fahadabul/mask_rcnn_skyhub/segment/images/train/793a9b5a-image3523.jpg: corrupt JPEG restored and saved\n",
            "\u001b[34m\u001b[1mtrain: \u001b[0mWARNING ⚠️ /home/fahadabul/mask_rcnn_skyhub/segment/images/train/7e42164f-image3585.jpg: corrupt JPEG restored and saved\n",
            "\u001b[34m\u001b[1mtrain: \u001b[0mWARNING ⚠️ /home/fahadabul/mask_rcnn_skyhub/segment/images/train/7e7e28ff-image3597.jpg: corrupt JPEG restored and saved\n",
            "\u001b[34m\u001b[1mtrain: \u001b[0mWARNING ⚠️ /home/fahadabul/mask_rcnn_skyhub/segment/images/train/82cd59e8-image3525.jpg: corrupt JPEG restored and saved\n",
            "\u001b[34m\u001b[1mtrain: \u001b[0mWARNING ⚠️ /home/fahadabul/mask_rcnn_skyhub/segment/images/train/86d0b773-image3584.jpg: corrupt JPEG restored and saved\n",
            "\u001b[34m\u001b[1mtrain: \u001b[0mWARNING ⚠️ /home/fahadabul/mask_rcnn_skyhub/segment/images/train/874ac8bc-image3594.jpg: corrupt JPEG restored and saved\n",
            "\u001b[34m\u001b[1mtrain: \u001b[0mWARNING ⚠️ /home/fahadabul/mask_rcnn_skyhub/segment/images/train/88b1feb0-image3536.jpg: corrupt JPEG restored and saved\n",
            "\u001b[34m\u001b[1mtrain: \u001b[0mWARNING ⚠️ /home/fahadabul/mask_rcnn_skyhub/segment/images/train/8b3f646a-image3503.jpg: corrupt JPEG restored and saved\n",
            "\u001b[34m\u001b[1mtrain: \u001b[0mWARNING ⚠️ /home/fahadabul/mask_rcnn_skyhub/segment/images/train/981c7215-image3573.jpg: corrupt JPEG restored and saved\n",
            "\u001b[34m\u001b[1mtrain: \u001b[0mWARNING ⚠️ /home/fahadabul/mask_rcnn_skyhub/segment/images/train/9fddc44c-image3529.jpg: corrupt JPEG restored and saved\n",
            "\u001b[34m\u001b[1mtrain: \u001b[0mWARNING ⚠️ /home/fahadabul/mask_rcnn_skyhub/segment/images/train/a33db9ec-image3521.jpg: corrupt JPEG restored and saved\n",
            "\u001b[34m\u001b[1mtrain: \u001b[0mWARNING ⚠️ /home/fahadabul/mask_rcnn_skyhub/segment/images/train/a3bdbbe6-image3506.jpg: corrupt JPEG restored and saved\n",
            "\u001b[34m\u001b[1mtrain: \u001b[0mWARNING ⚠️ /home/fahadabul/mask_rcnn_skyhub/segment/images/train/b1ba2fd9-image3502.jpg: corrupt JPEG restored and saved\n",
            "\u001b[34m\u001b[1mtrain: \u001b[0mWARNING ⚠️ /home/fahadabul/mask_rcnn_skyhub/segment/images/train/b46f03f6-image3591.jpg: corrupt JPEG restored and saved\n",
            "\u001b[34m\u001b[1mtrain: \u001b[0mWARNING ⚠️ /home/fahadabul/mask_rcnn_skyhub/segment/images/train/b5b1a308-image3512.jpg: corrupt JPEG restored and saved\n",
            "\u001b[34m\u001b[1mtrain: \u001b[0mWARNING ⚠️ /home/fahadabul/mask_rcnn_skyhub/segment/images/train/b92c94dd-image3501.jpg: corrupt JPEG restored and saved\n",
            "\u001b[34m\u001b[1mtrain: \u001b[0mWARNING ⚠️ /home/fahadabul/mask_rcnn_skyhub/segment/images/train/bf0a102c-image3507.jpg: corrupt JPEG restored and saved\n",
            "\u001b[34m\u001b[1mtrain: \u001b[0mWARNING ⚠️ /home/fahadabul/mask_rcnn_skyhub/segment/images/train/c6a295b6-image3509.jpg: corrupt JPEG restored and saved\n",
            "\u001b[34m\u001b[1mtrain: \u001b[0mWARNING ⚠️ /home/fahadabul/mask_rcnn_skyhub/segment/images/train/cc5ea9f3-image3578.jpg: corrupt JPEG restored and saved\n",
            "\u001b[34m\u001b[1mtrain: \u001b[0mWARNING ⚠️ /home/fahadabul/mask_rcnn_skyhub/segment/images/train/d21c7fa1-image3589.jpg: corrupt JPEG restored and saved\n",
            "\u001b[34m\u001b[1mtrain: \u001b[0mWARNING ⚠️ /home/fahadabul/mask_rcnn_skyhub/segment/images/train/da9d4093-image3535.jpg: corrupt JPEG restored and saved\n",
            "\u001b[34m\u001b[1mtrain: \u001b[0mWARNING ⚠️ /home/fahadabul/mask_rcnn_skyhub/segment/images/train/dddbe796-image3595.jpg: corrupt JPEG restored and saved\n",
            "\u001b[34m\u001b[1mtrain: \u001b[0mWARNING ⚠️ /home/fahadabul/mask_rcnn_skyhub/segment/images/train/e9444a2f-image3579.jpg: corrupt JPEG restored and saved\n",
            "\u001b[34m\u001b[1mtrain: \u001b[0mWARNING ⚠️ /home/fahadabul/mask_rcnn_skyhub/segment/images/train/e9b116f9-image3517.jpg: corrupt JPEG restored and saved\n",
            "\u001b[34m\u001b[1mtrain: \u001b[0mWARNING ⚠️ /home/fahadabul/mask_rcnn_skyhub/segment/images/train/f06076c1-image3583.jpg: corrupt JPEG restored and saved\n",
            "\u001b[34m\u001b[1mtrain: \u001b[0mWARNING ⚠️ /home/fahadabul/mask_rcnn_skyhub/segment/images/train/fe40df45-image3513.jpg: corrupt JPEG restored and saved\n"
          ]
        },
        {
          "name": "stderr",
          "output_type": "stream",
          "text": [
            "\n",
            "\u001b[34m\u001b[1mval: \u001b[0mScanning /home/fahadabul/mask_rcnn_skyhub/segment/labels/val.cache... 20 images, 0 backgrounds, 1 corrupt: 100%|██████████| 20/20 [00:00<?, ?it/s]"
          ]
        },
        {
          "name": "stdout",
          "output_type": "stream",
          "text": [
            "\u001b[34m\u001b[1mval: \u001b[0mWARNING ⚠️ /home/fahadabul/mask_rcnn_skyhub/segment/images/val/03825297-image3586.jpg: corrupt JPEG restored and saved\n",
            "\u001b[34m\u001b[1mval: \u001b[0mWARNING ⚠️ /home/fahadabul/mask_rcnn_skyhub/segment/images/val/1857eb04-image3549.jpg: ignoring corrupt image/label: non-normalized or out of bounds coordinates [1.0020243]\n",
            "\u001b[34m\u001b[1mval: \u001b[0mWARNING ⚠️ /home/fahadabul/mask_rcnn_skyhub/segment/images/val/18a3253f-image3581.jpg: corrupt JPEG restored and saved\n",
            "\u001b[34m\u001b[1mval: \u001b[0mWARNING ⚠️ /home/fahadabul/mask_rcnn_skyhub/segment/images/val/31f9870e-image3526.jpg: corrupt JPEG restored and saved\n",
            "\u001b[34m\u001b[1mval: \u001b[0mWARNING ⚠️ /home/fahadabul/mask_rcnn_skyhub/segment/images/val/35f32ed6-image3596.jpg: corrupt JPEG restored and saved\n",
            "\u001b[34m\u001b[1mval: \u001b[0mWARNING ⚠️ /home/fahadabul/mask_rcnn_skyhub/segment/images/val/7025f197-image3508.jpg: corrupt JPEG restored and saved\n",
            "\u001b[34m\u001b[1mval: \u001b[0mWARNING ⚠️ /home/fahadabul/mask_rcnn_skyhub/segment/images/val/a930b881-image3580.jpg: corrupt JPEG restored and saved\n",
            "\u001b[34m\u001b[1mval: \u001b[0mWARNING ⚠️ /home/fahadabul/mask_rcnn_skyhub/segment/images/val/ab477c9a-image3577.jpg: corrupt JPEG restored and saved\n",
            "\u001b[34m\u001b[1mval: \u001b[0mWARNING ⚠️ /home/fahadabul/mask_rcnn_skyhub/segment/images/val/b19a0720-image3510.jpg: corrupt JPEG restored and saved\n",
            "\u001b[34m\u001b[1mval: \u001b[0mWARNING ⚠️ /home/fahadabul/mask_rcnn_skyhub/segment/images/val/c6e04bc2-image3574.jpg: corrupt JPEG restored and saved\n",
            "\u001b[34m\u001b[1mval: \u001b[0mWARNING ⚠️ /home/fahadabul/mask_rcnn_skyhub/segment/images/val/f71e7bb3-image3592.jpg: corrupt JPEG restored and saved\n"
          ]
        },
        {
          "name": "stderr",
          "output_type": "stream",
          "text": [
            "\n"
          ]
        },
        {
          "name": "stdout",
          "output_type": "stream",
          "text": [
            "Plotting labels to runs/segment/train5/labels.jpg... \n",
            "\u001b[34m\u001b[1moptimizer:\u001b[0m 'optimizer=auto' found, ignoring 'lr0=0.01' and 'momentum=0.937' and determining best 'optimizer', 'lr0' and 'momentum' automatically... \n",
            "\u001b[34m\u001b[1moptimizer:\u001b[0m AdamW(lr=0.002, momentum=0.9) with parameter groups 66 weight(decay=0.0), 77 weight(decay=0.0005), 76 bias(decay=0.0)\n"
          ]
        },
        {
          "name": "stderr",
          "output_type": "stream",
          "text": [
            "2025/04/01 11:52:11 INFO mlflow.bedrock: Enabled auto-tracing for Bedrock. Note that MLflow can only trace boto3 service clients that are created after this call. If you have already created one, please recreate the client by calling `boto3.client`.\n",
            "2025/04/01 11:52:11 INFO mlflow.tracking.fluent: Autologging successfully enabled for boto3.\n"
          ]
        },
        {
          "name": "stdout",
          "output_type": "stream",
          "text": [
            "\u001b[34m\u001b[1mMLflow: \u001b[0mlogging run_id(164570080ca544839030d71032e879f6) to runs/mlflow\n",
            "\u001b[34m\u001b[1mMLflow: \u001b[0mview at http://127.0.0.1:5000 with 'mlflow server --backend-store-uri runs/mlflow'\n",
            "\u001b[34m\u001b[1mMLflow: \u001b[0mdisable with 'yolo settings mlflow=False'\n",
            "\u001b[34m\u001b[1mTensorBoard: \u001b[0mmodel graph visualization added ✅\n",
            "Image sizes 640 train, 640 val\n",
            "Using 0 dataloader workers\n",
            "Logging results to \u001b[1mruns/segment/train5\u001b[0m\n",
            "Starting training for 50 epochs...\n",
            "\n",
            "      Epoch    GPU_mem   box_loss   seg_loss   cls_loss   dfl_loss  Instances       Size\n"
          ]
        },
        {
          "name": "stderr",
          "output_type": "stream",
          "text": [
            "       1/50         0G      1.433      4.151      2.548      1.654        105        640: 100%|██████████| 5/5 [00:35<00:00,  7.16s/it]\n",
            "                 Class     Images  Instances      Box(P          R      mAP50  mAP50-95)     Mask(P          R      mAP50  mAP50-95): 100%|██████████| 1/1 [00:05<00:00,  5.22s/it]"
          ]
        },
        {
          "name": "stdout",
          "output_type": "stream",
          "text": [
            "                   all         19         45    0.00789          1       0.47      0.283    0.00789          1      0.548      0.195\n"
          ]
        },
        {
          "name": "stderr",
          "output_type": "stream",
          "text": [
            "\n"
          ]
        },
        {
          "name": "stdout",
          "output_type": "stream",
          "text": [
            "\n",
            "      Epoch    GPU_mem   box_loss   seg_loss   cls_loss   dfl_loss  Instances       Size\n"
          ]
        },
        {
          "name": "stderr",
          "output_type": "stream",
          "text": [
            "       2/50         0G     0.9458      2.407      2.129      1.281        105        640: 100%|██████████| 5/5 [00:30<00:00,  6.19s/it]\n",
            "                 Class     Images  Instances      Box(P          R      mAP50  mAP50-95)     Mask(P          R      mAP50  mAP50-95): 100%|██████████| 1/1 [00:04<00:00,  4.92s/it]"
          ]
        },
        {
          "name": "stdout",
          "output_type": "stream",
          "text": [
            "                   all         19         45    0.00789          1       0.92      0.672    0.00754      0.956      0.892      0.409\n"
          ]
        },
        {
          "name": "stderr",
          "output_type": "stream",
          "text": [
            "\n"
          ]
        },
        {
          "name": "stdout",
          "output_type": "stream",
          "text": [
            "\n",
            "      Epoch    GPU_mem   box_loss   seg_loss   cls_loss   dfl_loss  Instances       Size\n"
          ]
        },
        {
          "name": "stderr",
          "output_type": "stream",
          "text": [
            "       3/50         0G     0.7629      1.674       1.44       1.12        102        640: 100%|██████████| 5/5 [00:30<00:00,  6.20s/it]\n",
            "                 Class     Images  Instances      Box(P          R      mAP50  mAP50-95)     Mask(P          R      mAP50  mAP50-95): 100%|██████████| 1/1 [00:04<00:00,  4.97s/it]"
          ]
        },
        {
          "name": "stdout",
          "output_type": "stream",
          "text": [
            "                   all         19         45      0.931        0.3      0.913      0.726      0.931        0.3      0.864      0.444\n"
          ]
        },
        {
          "name": "stderr",
          "output_type": "stream",
          "text": [
            "\n"
          ]
        },
        {
          "name": "stdout",
          "output_type": "stream",
          "text": [
            "\n",
            "      Epoch    GPU_mem   box_loss   seg_loss   cls_loss   dfl_loss  Instances       Size\n"
          ]
        },
        {
          "name": "stderr",
          "output_type": "stream",
          "text": [
            "       4/50         0G     0.6713      1.299       1.06      1.059         92        640: 100%|██████████| 5/5 [00:31<00:00,  6.28s/it]\n",
            "                 Class     Images  Instances      Box(P          R      mAP50  mAP50-95)     Mask(P          R      mAP50  mAP50-95): 100%|██████████| 1/1 [00:04<00:00,  4.99s/it]"
          ]
        },
        {
          "name": "stdout",
          "output_type": "stream",
          "text": [
            "                   all         19         45      0.972      0.785      0.957      0.783      0.972      0.776      0.936      0.591\n"
          ]
        },
        {
          "name": "stderr",
          "output_type": "stream",
          "text": [
            "\n"
          ]
        },
        {
          "name": "stdout",
          "output_type": "stream",
          "text": [
            "\n",
            "      Epoch    GPU_mem   box_loss   seg_loss   cls_loss   dfl_loss  Instances       Size\n"
          ]
        },
        {
          "name": "stderr",
          "output_type": "stream",
          "text": [
            "       5/50         0G     0.6634      1.157     0.9709      1.081        101        640: 100%|██████████| 5/5 [00:33<00:00,  6.76s/it]\n",
            "                 Class     Images  Instances      Box(P          R      mAP50  mAP50-95)     Mask(P          R      mAP50  mAP50-95): 100%|██████████| 1/1 [00:05<00:00,  5.36s/it]"
          ]
        },
        {
          "name": "stdout",
          "output_type": "stream",
          "text": [
            "                   all         19         45      0.836      0.911      0.936      0.774      0.836      0.911      0.939      0.658\n"
          ]
        },
        {
          "name": "stderr",
          "output_type": "stream",
          "text": [
            "\n"
          ]
        },
        {
          "name": "stdout",
          "output_type": "stream",
          "text": [
            "\n",
            "      Epoch    GPU_mem   box_loss   seg_loss   cls_loss   dfl_loss  Instances       Size\n"
          ]
        },
        {
          "name": "stderr",
          "output_type": "stream",
          "text": [
            "       6/50         0G     0.6785      1.156     0.9113      1.073        104        640: 100%|██████████| 5/5 [00:30<00:00,  6.02s/it]\n",
            "                 Class     Images  Instances      Box(P          R      mAP50  mAP50-95)     Mask(P          R      mAP50  mAP50-95): 100%|██████████| 1/1 [00:04<00:00,  4.88s/it]"
          ]
        },
        {
          "name": "stdout",
          "output_type": "stream",
          "text": [
            "                   all         19         45      0.856      0.933      0.946      0.785      0.856      0.933      0.935      0.626\n"
          ]
        },
        {
          "name": "stderr",
          "output_type": "stream",
          "text": [
            "\n"
          ]
        },
        {
          "name": "stdout",
          "output_type": "stream",
          "text": [
            "\n",
            "      Epoch    GPU_mem   box_loss   seg_loss   cls_loss   dfl_loss  Instances       Size\n"
          ]
        },
        {
          "name": "stderr",
          "output_type": "stream",
          "text": [
            "       7/50         0G     0.6219      1.077     0.8365      1.049         94        640: 100%|██████████| 5/5 [00:29<00:00,  5.93s/it]\n",
            "                 Class     Images  Instances      Box(P          R      mAP50  mAP50-95)     Mask(P          R      mAP50  mAP50-95): 100%|██████████| 1/1 [00:05<00:00,  5.17s/it]"
          ]
        },
        {
          "name": "stdout",
          "output_type": "stream",
          "text": [
            "                   all         19         45      0.927      0.843      0.941      0.789      0.927      0.843       0.91      0.689\n"
          ]
        },
        {
          "name": "stderr",
          "output_type": "stream",
          "text": [
            "\n"
          ]
        },
        {
          "name": "stdout",
          "output_type": "stream",
          "text": [
            "\n",
            "      Epoch    GPU_mem   box_loss   seg_loss   cls_loss   dfl_loss  Instances       Size\n"
          ]
        },
        {
          "name": "stderr",
          "output_type": "stream",
          "text": [
            "       8/50         0G     0.6161      1.079      0.808      1.026        110        640: 100%|██████████| 5/5 [00:31<00:00,  6.24s/it]\n",
            "                 Class     Images  Instances      Box(P          R      mAP50  mAP50-95)     Mask(P          R      mAP50  mAP50-95): 100%|██████████| 1/1 [00:05<00:00,  5.70s/it]"
          ]
        },
        {
          "name": "stdout",
          "output_type": "stream",
          "text": [
            "                   all         19         45      0.831      0.876      0.905       0.73      0.831      0.876      0.901       0.62\n"
          ]
        },
        {
          "name": "stderr",
          "output_type": "stream",
          "text": [
            "\n"
          ]
        },
        {
          "name": "stdout",
          "output_type": "stream",
          "text": [
            "\n",
            "      Epoch    GPU_mem   box_loss   seg_loss   cls_loss   dfl_loss  Instances       Size\n"
          ]
        },
        {
          "name": "stderr",
          "output_type": "stream",
          "text": [
            "       9/50         0G     0.6086     0.9879     0.7809      1.025        115        640: 100%|██████████| 5/5 [00:33<00:00,  6.74s/it]\n",
            "                 Class     Images  Instances      Box(P          R      mAP50  mAP50-95)     Mask(P          R      mAP50  mAP50-95): 100%|██████████| 1/1 [00:05<00:00,  5.43s/it]"
          ]
        },
        {
          "name": "stdout",
          "output_type": "stream",
          "text": [
            "                   all         19         45      0.758      0.836      0.846      0.656      0.758      0.836      0.842      0.478\n"
          ]
        },
        {
          "name": "stderr",
          "output_type": "stream",
          "text": [
            "\n"
          ]
        },
        {
          "name": "stdout",
          "output_type": "stream",
          "text": [
            "\n",
            "      Epoch    GPU_mem   box_loss   seg_loss   cls_loss   dfl_loss  Instances       Size\n"
          ]
        },
        {
          "name": "stderr",
          "output_type": "stream",
          "text": [
            "      10/50         0G     0.5931     0.9788     0.7756     0.9939         97        640: 100%|██████████| 5/5 [00:31<00:00,  6.27s/it]\n",
            "                 Class     Images  Instances      Box(P          R      mAP50  mAP50-95)     Mask(P          R      mAP50  mAP50-95): 100%|██████████| 1/1 [00:04<00:00,  4.91s/it]"
          ]
        },
        {
          "name": "stdout",
          "output_type": "stream",
          "text": [
            "                   all         19         45      0.948      0.807      0.892      0.713      0.948      0.807      0.892      0.588\n"
          ]
        },
        {
          "name": "stderr",
          "output_type": "stream",
          "text": [
            "\n"
          ]
        },
        {
          "name": "stdout",
          "output_type": "stream",
          "text": [
            "\n",
            "      Epoch    GPU_mem   box_loss   seg_loss   cls_loss   dfl_loss  Instances       Size\n"
          ]
        },
        {
          "name": "stderr",
          "output_type": "stream",
          "text": [
            "      11/50         0G       0.58     0.9761     0.7469      1.012        100        640: 100%|██████████| 5/5 [00:30<00:00,  6.04s/it]\n",
            "                 Class     Images  Instances      Box(P          R      mAP50  mAP50-95)     Mask(P          R      mAP50  mAP50-95): 100%|██████████| 1/1 [00:04<00:00,  4.85s/it]"
          ]
        },
        {
          "name": "stdout",
          "output_type": "stream",
          "text": [
            "                   all         19         45      0.953      0.689      0.825      0.638      0.909      0.668      0.768      0.407\n"
          ]
        },
        {
          "name": "stderr",
          "output_type": "stream",
          "text": [
            "\n"
          ]
        },
        {
          "name": "stdout",
          "output_type": "stream",
          "text": [
            "\n",
            "      Epoch    GPU_mem   box_loss   seg_loss   cls_loss   dfl_loss  Instances       Size\n"
          ]
        },
        {
          "name": "stderr",
          "output_type": "stream",
          "text": [
            "      12/50         0G     0.6479       1.08     0.7569      1.029        107        640: 100%|██████████| 5/5 [00:28<00:00,  5.74s/it]\n",
            "                 Class     Images  Instances      Box(P          R      mAP50  mAP50-95)     Mask(P          R      mAP50  mAP50-95): 100%|██████████| 1/1 [00:04<00:00,  4.57s/it]"
          ]
        },
        {
          "name": "stdout",
          "output_type": "stream",
          "text": [
            "                   all         19         45      0.939      0.844      0.931      0.742      0.917      0.822      0.886      0.601\n"
          ]
        },
        {
          "name": "stderr",
          "output_type": "stream",
          "text": [
            "\n"
          ]
        },
        {
          "name": "stdout",
          "output_type": "stream",
          "text": [
            "\n",
            "      Epoch    GPU_mem   box_loss   seg_loss   cls_loss   dfl_loss  Instances       Size\n"
          ]
        },
        {
          "name": "stderr",
          "output_type": "stream",
          "text": [
            "      13/50         0G     0.5954     0.9303     0.7611      1.016         91        640: 100%|██████████| 5/5 [00:34<00:00,  6.84s/it]\n",
            "                 Class     Images  Instances      Box(P          R      mAP50  mAP50-95)     Mask(P          R      mAP50  mAP50-95): 100%|██████████| 1/1 [00:05<00:00,  5.65s/it]"
          ]
        },
        {
          "name": "stdout",
          "output_type": "stream",
          "text": [
            "                   all         19         45       0.93      0.883      0.927      0.735       0.93      0.883      0.927      0.618\n"
          ]
        },
        {
          "name": "stderr",
          "output_type": "stream",
          "text": [
            "\n"
          ]
        },
        {
          "name": "stdout",
          "output_type": "stream",
          "text": [
            "\n",
            "      Epoch    GPU_mem   box_loss   seg_loss   cls_loss   dfl_loss  Instances       Size\n"
          ]
        },
        {
          "name": "stderr",
          "output_type": "stream",
          "text": [
            "      14/50         0G     0.5416     0.8876        0.7     0.9652        106        640: 100%|██████████| 5/5 [00:33<00:00,  6.70s/it]\n",
            "                 Class     Images  Instances      Box(P          R      mAP50  mAP50-95)     Mask(P          R      mAP50  mAP50-95): 100%|██████████| 1/1 [00:04<00:00,  4.24s/it]"
          ]
        },
        {
          "name": "stdout",
          "output_type": "stream",
          "text": [
            "                   all         19         45      0.995      0.844      0.919      0.759      0.995      0.844      0.915      0.647\n"
          ]
        },
        {
          "name": "stderr",
          "output_type": "stream",
          "text": [
            "\n"
          ]
        },
        {
          "name": "stdout",
          "output_type": "stream",
          "text": [
            "\n",
            "      Epoch    GPU_mem   box_loss   seg_loss   cls_loss   dfl_loss  Instances       Size\n"
          ]
        },
        {
          "name": "stderr",
          "output_type": "stream",
          "text": [
            "      15/50         0G     0.5604     0.8836     0.7165     0.9891        105        640: 100%|██████████| 5/5 [00:28<00:00,  5.75s/it]\n",
            "                 Class     Images  Instances      Box(P          R      mAP50  mAP50-95)     Mask(P          R      mAP50  mAP50-95): 100%|██████████| 1/1 [00:05<00:00,  5.49s/it]"
          ]
        },
        {
          "name": "stdout",
          "output_type": "stream",
          "text": [
            "                   all         19         45      0.909      0.911      0.928      0.743      0.909      0.911      0.911      0.664\n"
          ]
        },
        {
          "name": "stderr",
          "output_type": "stream",
          "text": [
            "\n"
          ]
        },
        {
          "name": "stdout",
          "output_type": "stream",
          "text": [
            "\n",
            "      Epoch    GPU_mem   box_loss   seg_loss   cls_loss   dfl_loss  Instances       Size\n"
          ]
        },
        {
          "name": "stderr",
          "output_type": "stream",
          "text": [
            "      16/50         0G     0.5227     0.7921      0.695     0.9644         88        640: 100%|██████████| 5/5 [00:34<00:00,  6.89s/it]\n",
            "                 Class     Images  Instances      Box(P          R      mAP50  mAP50-95)     Mask(P          R      mAP50  mAP50-95): 100%|██████████| 1/1 [00:05<00:00,  5.50s/it]"
          ]
        },
        {
          "name": "stdout",
          "output_type": "stream",
          "text": [
            "                   all         19         45      0.891      0.956      0.949      0.779       0.87      0.933      0.934      0.668\n"
          ]
        },
        {
          "name": "stderr",
          "output_type": "stream",
          "text": [
            "\n"
          ]
        },
        {
          "name": "stdout",
          "output_type": "stream",
          "text": [
            "\n",
            "      Epoch    GPU_mem   box_loss   seg_loss   cls_loss   dfl_loss  Instances       Size\n"
          ]
        },
        {
          "name": "stderr",
          "output_type": "stream",
          "text": [
            "      17/50         0G     0.5462     0.8337     0.6389     0.9834         94        640: 100%|██████████| 5/5 [00:34<00:00,  6.88s/it]\n",
            "                 Class     Images  Instances      Box(P          R      mAP50  mAP50-95)     Mask(P          R      mAP50  mAP50-95): 100%|██████████| 1/1 [00:05<00:00,  5.35s/it]"
          ]
        },
        {
          "name": "stdout",
          "output_type": "stream",
          "text": [
            "                   all         19         45      0.892      0.956      0.932      0.767      0.892      0.956       0.93      0.581\n"
          ]
        },
        {
          "name": "stderr",
          "output_type": "stream",
          "text": [
            "\n"
          ]
        },
        {
          "name": "stdout",
          "output_type": "stream",
          "text": [
            "\n",
            "      Epoch    GPU_mem   box_loss   seg_loss   cls_loss   dfl_loss  Instances       Size\n"
          ]
        },
        {
          "name": "stderr",
          "output_type": "stream",
          "text": [
            "      18/50         0G     0.5627     0.8409     0.6671     0.9705         83        640: 100%|██████████| 5/5 [00:33<00:00,  6.72s/it]\n",
            "                 Class     Images  Instances      Box(P          R      mAP50  mAP50-95)     Mask(P          R      mAP50  mAP50-95): 100%|██████████| 1/1 [00:04<00:00,  4.37s/it]"
          ]
        },
        {
          "name": "stdout",
          "output_type": "stream",
          "text": [
            "                   all         19         45      0.894      0.933      0.959      0.781      0.894      0.933      0.953      0.619\n"
          ]
        },
        {
          "name": "stderr",
          "output_type": "stream",
          "text": [
            "\n"
          ]
        },
        {
          "name": "stdout",
          "output_type": "stream",
          "text": [
            "\n",
            "      Epoch    GPU_mem   box_loss   seg_loss   cls_loss   dfl_loss  Instances       Size\n"
          ]
        },
        {
          "name": "stderr",
          "output_type": "stream",
          "text": [
            "      19/50         0G     0.5206     0.8233     0.6565     0.9787        109        640: 100%|██████████| 5/5 [00:33<00:00,  6.77s/it]\n",
            "                 Class     Images  Instances      Box(P          R      mAP50  mAP50-95)     Mask(P          R      mAP50  mAP50-95): 100%|██████████| 1/1 [00:05<00:00,  5.52s/it]"
          ]
        },
        {
          "name": "stdout",
          "output_type": "stream",
          "text": [
            "                   all         19         45      0.915      0.954      0.966      0.802      0.915      0.954       0.95      0.682\n"
          ]
        },
        {
          "name": "stderr",
          "output_type": "stream",
          "text": [
            "\n"
          ]
        },
        {
          "name": "stdout",
          "output_type": "stream",
          "text": [
            "\n",
            "      Epoch    GPU_mem   box_loss   seg_loss   cls_loss   dfl_loss  Instances       Size\n"
          ]
        },
        {
          "name": "stderr",
          "output_type": "stream",
          "text": [
            "      20/50         0G      0.533     0.8185     0.6165     0.9656         99        640: 100%|██████████| 5/5 [00:32<00:00,  6.54s/it]\n",
            "                 Class     Images  Instances      Box(P          R      mAP50  mAP50-95)     Mask(P          R      mAP50  mAP50-95): 100%|██████████| 1/1 [00:04<00:00,  4.21s/it]"
          ]
        },
        {
          "name": "stdout",
          "output_type": "stream",
          "text": [
            "                   all         19         45      0.936      0.968      0.961       0.78      0.914      0.946      0.936      0.698\n",
            "\n",
            "      Epoch    GPU_mem   box_loss   seg_loss   cls_loss   dfl_loss  Instances       Size\n"
          ]
        },
        {
          "name": "stderr",
          "output_type": "stream",
          "text": [
            "\n",
            "      21/50         0G     0.5672     0.8603     0.6507     0.9869         91        640: 100%|██████████| 5/5 [00:31<00:00,  6.35s/it]\n",
            "                 Class     Images  Instances      Box(P          R      mAP50  mAP50-95)     Mask(P          R      mAP50  mAP50-95): 100%|██████████| 1/1 [00:04<00:00,  4.74s/it]"
          ]
        },
        {
          "name": "stdout",
          "output_type": "stream",
          "text": [
            "                   all         19         45      0.934      0.948      0.966      0.785      0.912      0.926      0.936      0.695\n"
          ]
        },
        {
          "name": "stderr",
          "output_type": "stream",
          "text": [
            "\n"
          ]
        },
        {
          "name": "stdout",
          "output_type": "stream",
          "text": [
            "\n",
            "      Epoch    GPU_mem   box_loss   seg_loss   cls_loss   dfl_loss  Instances       Size\n"
          ]
        },
        {
          "name": "stderr",
          "output_type": "stream",
          "text": [
            "      22/50         0G     0.5215     0.8427     0.6351     0.9493        115        640: 100%|██████████| 5/5 [00:31<00:00,  6.27s/it]\n",
            "                 Class     Images  Instances      Box(P          R      mAP50  mAP50-95)     Mask(P          R      mAP50  mAP50-95): 100%|██████████| 1/1 [00:05<00:00,  5.04s/it]"
          ]
        },
        {
          "name": "stdout",
          "output_type": "stream",
          "text": [
            "                   all         19         45      0.902      0.933      0.939      0.748       0.88      0.911       0.92      0.673\n"
          ]
        },
        {
          "name": "stderr",
          "output_type": "stream",
          "text": [
            "\n"
          ]
        },
        {
          "name": "stdout",
          "output_type": "stream",
          "text": [
            "\n",
            "      Epoch    GPU_mem   box_loss   seg_loss   cls_loss   dfl_loss  Instances       Size\n"
          ]
        },
        {
          "name": "stderr",
          "output_type": "stream",
          "text": [
            "      23/50         0G     0.5436     0.8073     0.5955     0.9752        105        640: 100%|██████████| 5/5 [00:31<00:00,  6.39s/it]\n",
            "                 Class     Images  Instances      Box(P          R      mAP50  mAP50-95)     Mask(P          R      mAP50  mAP50-95): 100%|██████████| 1/1 [00:05<00:00,  5.15s/it]"
          ]
        },
        {
          "name": "stdout",
          "output_type": "stream",
          "text": [
            "                   all         19         45       0.87      0.956      0.945      0.734       0.87      0.956      0.954      0.625\n"
          ]
        },
        {
          "name": "stderr",
          "output_type": "stream",
          "text": [
            "\n"
          ]
        },
        {
          "name": "stdout",
          "output_type": "stream",
          "text": [
            "\n",
            "      Epoch    GPU_mem   box_loss   seg_loss   cls_loss   dfl_loss  Instances       Size\n"
          ]
        },
        {
          "name": "stderr",
          "output_type": "stream",
          "text": [
            "      24/50         0G     0.4977     0.7316     0.5657     0.9452        111        640: 100%|██████████| 5/5 [00:31<00:00,  6.25s/it]\n",
            "                 Class     Images  Instances      Box(P          R      mAP50  mAP50-95)     Mask(P          R      mAP50  mAP50-95): 100%|██████████| 1/1 [00:05<00:00,  5.10s/it]"
          ]
        },
        {
          "name": "stdout",
          "output_type": "stream",
          "text": [
            "                   all         19         45      0.949      0.911       0.97      0.823      0.949      0.911      0.955      0.529\n"
          ]
        },
        {
          "name": "stderr",
          "output_type": "stream",
          "text": [
            "\n"
          ]
        },
        {
          "name": "stdout",
          "output_type": "stream",
          "text": [
            "\n",
            "      Epoch    GPU_mem   box_loss   seg_loss   cls_loss   dfl_loss  Instances       Size\n"
          ]
        },
        {
          "name": "stderr",
          "output_type": "stream",
          "text": [
            "      25/50         0G     0.5222     0.8092     0.6107     0.9649         96        640: 100%|██████████| 5/5 [00:30<00:00,  6.07s/it]\n",
            "                 Class     Images  Instances      Box(P          R      mAP50  mAP50-95)     Mask(P          R      mAP50  mAP50-95): 100%|██████████| 1/1 [00:05<00:00,  5.08s/it]"
          ]
        },
        {
          "name": "stdout",
          "output_type": "stream",
          "text": [
            "                   all         19         45      0.975      0.866      0.978       0.83      0.975      0.866      0.964      0.611\n"
          ]
        },
        {
          "name": "stderr",
          "output_type": "stream",
          "text": [
            "\n"
          ]
        },
        {
          "name": "stdout",
          "output_type": "stream",
          "text": [
            "\n",
            "      Epoch    GPU_mem   box_loss   seg_loss   cls_loss   dfl_loss  Instances       Size\n"
          ]
        },
        {
          "name": "stderr",
          "output_type": "stream",
          "text": [
            "      26/50         0G     0.5097     0.7406      0.576     0.9503         88        640: 100%|██████████| 5/5 [00:30<00:00,  6.17s/it]\n",
            "                 Class     Images  Instances      Box(P          R      mAP50  mAP50-95)     Mask(P          R      mAP50  mAP50-95): 100%|██████████| 1/1 [00:04<00:00,  4.87s/it]"
          ]
        },
        {
          "name": "stdout",
          "output_type": "stream",
          "text": [
            "                   all         19         45      0.897      0.978      0.981      0.845      0.897      0.978      0.966      0.658\n"
          ]
        },
        {
          "name": "stderr",
          "output_type": "stream",
          "text": [
            "\n"
          ]
        },
        {
          "name": "stdout",
          "output_type": "stream",
          "text": [
            "\n",
            "      Epoch    GPU_mem   box_loss   seg_loss   cls_loss   dfl_loss  Instances       Size\n"
          ]
        },
        {
          "name": "stderr",
          "output_type": "stream",
          "text": [
            "      27/50         0G     0.4619     0.6509     0.5426     0.9374        116        640: 100%|██████████| 5/5 [00:31<00:00,  6.24s/it]\n",
            "                 Class     Images  Instances      Box(P          R      mAP50  mAP50-95)     Mask(P          R      mAP50  mAP50-95): 100%|██████████| 1/1 [00:04<00:00,  4.77s/it]"
          ]
        },
        {
          "name": "stdout",
          "output_type": "stream",
          "text": [
            "                   all         19         45      0.955      0.947      0.982      0.845      0.955      0.947      0.969      0.735\n"
          ]
        },
        {
          "name": "stderr",
          "output_type": "stream",
          "text": [
            "\n"
          ]
        },
        {
          "name": "stdout",
          "output_type": "stream",
          "text": [
            "\n",
            "      Epoch    GPU_mem   box_loss   seg_loss   cls_loss   dfl_loss  Instances       Size\n"
          ]
        },
        {
          "name": "stderr",
          "output_type": "stream",
          "text": [
            "      28/50         0G     0.5011     0.7973     0.5549     0.9565        105        640: 100%|██████████| 5/5 [00:32<00:00,  6.41s/it]\n",
            "                 Class     Images  Instances      Box(P          R      mAP50  mAP50-95)     Mask(P          R      mAP50  mAP50-95): 100%|██████████| 1/1 [00:04<00:00,  4.85s/it]"
          ]
        },
        {
          "name": "stdout",
          "output_type": "stream",
          "text": [
            "                   all         19         45      0.976      0.908      0.963      0.836      0.976      0.908      0.962      0.771\n"
          ]
        },
        {
          "name": "stderr",
          "output_type": "stream",
          "text": [
            "\n"
          ]
        },
        {
          "name": "stdout",
          "output_type": "stream",
          "text": [
            "\n",
            "      Epoch    GPU_mem   box_loss   seg_loss   cls_loss   dfl_loss  Instances       Size\n"
          ]
        },
        {
          "name": "stderr",
          "output_type": "stream",
          "text": [
            "      29/50         0G     0.4999     0.7452     0.5683     0.9409        110        640: 100%|██████████| 5/5 [00:29<00:00,  5.98s/it]\n",
            "                 Class     Images  Instances      Box(P          R      mAP50  mAP50-95)     Mask(P          R      mAP50  mAP50-95): 100%|██████████| 1/1 [00:04<00:00,  4.64s/it]"
          ]
        },
        {
          "name": "stdout",
          "output_type": "stream",
          "text": [
            "                   all         19         45      0.976      0.909      0.968      0.832      0.976      0.909      0.968      0.774\n"
          ]
        },
        {
          "name": "stderr",
          "output_type": "stream",
          "text": [
            "\n"
          ]
        },
        {
          "name": "stdout",
          "output_type": "stream",
          "text": [
            "\n",
            "      Epoch    GPU_mem   box_loss   seg_loss   cls_loss   dfl_loss  Instances       Size\n"
          ]
        },
        {
          "name": "stderr",
          "output_type": "stream",
          "text": [
            "      30/50         0G     0.5193     0.8205      0.581     0.9642         80        640: 100%|██████████| 5/5 [00:27<00:00,  5.56s/it]\n",
            "                 Class     Images  Instances      Box(P          R      mAP50  mAP50-95)     Mask(P          R      mAP50  mAP50-95): 100%|██████████| 1/1 [00:04<00:00,  4.36s/it]"
          ]
        },
        {
          "name": "stdout",
          "output_type": "stream",
          "text": [
            "                   all         19         45      0.955       0.95      0.971      0.851      0.955       0.95      0.971      0.769\n"
          ]
        },
        {
          "name": "stderr",
          "output_type": "stream",
          "text": [
            "\n"
          ]
        },
        {
          "name": "stdout",
          "output_type": "stream",
          "text": [
            "\n",
            "      Epoch    GPU_mem   box_loss   seg_loss   cls_loss   dfl_loss  Instances       Size\n"
          ]
        },
        {
          "name": "stderr",
          "output_type": "stream",
          "text": [
            "      31/50         0G     0.4476     0.7098     0.5155     0.9395        117        640: 100%|██████████| 5/5 [00:27<00:00,  5.58s/it]\n",
            "                 Class     Images  Instances      Box(P          R      mAP50  mAP50-95)     Mask(P          R      mAP50  mAP50-95): 100%|██████████| 1/1 [00:04<00:00,  4.31s/it]"
          ]
        },
        {
          "name": "stdout",
          "output_type": "stream",
          "text": [
            "                   all         19         45      0.971      0.933      0.967      0.826      0.971      0.933      0.967      0.778\n"
          ]
        },
        {
          "name": "stderr",
          "output_type": "stream",
          "text": [
            "\n"
          ]
        },
        {
          "name": "stdout",
          "output_type": "stream",
          "text": [
            "\n",
            "      Epoch    GPU_mem   box_loss   seg_loss   cls_loss   dfl_loss  Instances       Size\n"
          ]
        },
        {
          "name": "stderr",
          "output_type": "stream",
          "text": [
            "      32/50         0G     0.4704     0.7162     0.5093     0.9415        110        640: 100%|██████████| 5/5 [00:27<00:00,  5.44s/it]\n",
            "                 Class     Images  Instances      Box(P          R      mAP50  mAP50-95)     Mask(P          R      mAP50  mAP50-95): 100%|██████████| 1/1 [00:04<00:00,  4.35s/it]"
          ]
        },
        {
          "name": "stdout",
          "output_type": "stream",
          "text": [
            "                   all         19         45      0.911      0.978      0.975      0.859      0.911      0.978      0.973      0.798\n",
            "\n",
            "      Epoch    GPU_mem   box_loss   seg_loss   cls_loss   dfl_loss  Instances       Size\n"
          ]
        },
        {
          "name": "stderr",
          "output_type": "stream",
          "text": [
            "\n",
            "      33/50         0G     0.4874     0.7152     0.5334     0.9472        104        640: 100%|██████████| 5/5 [00:27<00:00,  5.48s/it]\n",
            "                 Class     Images  Instances      Box(P          R      mAP50  mAP50-95)     Mask(P          R      mAP50  mAP50-95): 100%|██████████| 1/1 [00:04<00:00,  4.50s/it]"
          ]
        },
        {
          "name": "stdout",
          "output_type": "stream",
          "text": [
            "                   all         19         45      0.936      0.977       0.98      0.862      0.936      0.977      0.975      0.798\n"
          ]
        },
        {
          "name": "stderr",
          "output_type": "stream",
          "text": [
            "\n"
          ]
        },
        {
          "name": "stdout",
          "output_type": "stream",
          "text": [
            "\n",
            "      Epoch    GPU_mem   box_loss   seg_loss   cls_loss   dfl_loss  Instances       Size\n"
          ]
        },
        {
          "name": "stderr",
          "output_type": "stream",
          "text": [
            "      34/50         0G      0.486     0.6817     0.5142      0.954        102        640: 100%|██████████| 5/5 [00:27<00:00,  5.54s/it]\n",
            "                 Class     Images  Instances      Box(P          R      mAP50  mAP50-95)     Mask(P          R      mAP50  mAP50-95): 100%|██████████| 1/1 [00:04<00:00,  4.30s/it]"
          ]
        },
        {
          "name": "stdout",
          "output_type": "stream",
          "text": [
            "                   all         19         45      0.955      0.948      0.984      0.871      0.955      0.948      0.977      0.811\n"
          ]
        },
        {
          "name": "stderr",
          "output_type": "stream",
          "text": [
            "\n"
          ]
        },
        {
          "name": "stdout",
          "output_type": "stream",
          "text": [
            "\n",
            "      Epoch    GPU_mem   box_loss   seg_loss   cls_loss   dfl_loss  Instances       Size\n"
          ]
        },
        {
          "name": "stderr",
          "output_type": "stream",
          "text": [
            "      35/50         0G     0.4965     0.6558     0.5214     0.9478         92        640: 100%|██████████| 5/5 [00:27<00:00,  5.58s/it]\n",
            "                 Class     Images  Instances      Box(P          R      mAP50  mAP50-95)     Mask(P          R      mAP50  mAP50-95): 100%|██████████| 1/1 [00:04<00:00,  4.68s/it]"
          ]
        },
        {
          "name": "stdout",
          "output_type": "stream",
          "text": [
            "                   all         19         45      0.966      0.933      0.984       0.88      0.949      0.956      0.979      0.799\n"
          ]
        },
        {
          "name": "stderr",
          "output_type": "stream",
          "text": [
            "\n"
          ]
        },
        {
          "name": "stdout",
          "output_type": "stream",
          "text": [
            "\n",
            "      Epoch    GPU_mem   box_loss   seg_loss   cls_loss   dfl_loss  Instances       Size\n"
          ]
        },
        {
          "name": "stderr",
          "output_type": "stream",
          "text": [
            "      36/50         0G       0.44      0.634     0.4777     0.9253         99        640: 100%|██████████| 5/5 [00:30<00:00,  6.16s/it]\n",
            "                 Class     Images  Instances      Box(P          R      mAP50  mAP50-95)     Mask(P          R      mAP50  mAP50-95): 100%|██████████| 1/1 [00:04<00:00,  4.16s/it]"
          ]
        },
        {
          "name": "stdout",
          "output_type": "stream",
          "text": [
            "                   all         19         45      0.955      0.948      0.987      0.877      0.955      0.948       0.98      0.794\n"
          ]
        },
        {
          "name": "stderr",
          "output_type": "stream",
          "text": [
            "\n"
          ]
        },
        {
          "name": "stdout",
          "output_type": "stream",
          "text": [
            "\n",
            "      Epoch    GPU_mem   box_loss   seg_loss   cls_loss   dfl_loss  Instances       Size\n"
          ]
        },
        {
          "name": "stderr",
          "output_type": "stream",
          "text": [
            "      37/50         0G     0.4594     0.6637     0.5079     0.9364         88        640: 100%|██████████| 5/5 [00:27<00:00,  5.53s/it]\n",
            "                 Class     Images  Instances      Box(P          R      mAP50  mAP50-95)     Mask(P          R      mAP50  mAP50-95): 100%|██████████| 1/1 [00:04<00:00,  4.37s/it]"
          ]
        },
        {
          "name": "stdout",
          "output_type": "stream",
          "text": [
            "                   all         19         45      0.955       0.95      0.979      0.893      0.955       0.95      0.979      0.822\n"
          ]
        },
        {
          "name": "stderr",
          "output_type": "stream",
          "text": [
            "\n"
          ]
        },
        {
          "name": "stdout",
          "output_type": "stream",
          "text": [
            "\n",
            "      Epoch    GPU_mem   box_loss   seg_loss   cls_loss   dfl_loss  Instances       Size\n"
          ]
        },
        {
          "name": "stderr",
          "output_type": "stream",
          "text": [
            "      38/50         0G     0.4612     0.6473     0.4847     0.9414         92        640: 100%|██████████| 5/5 [00:26<00:00,  5.37s/it]\n",
            "                 Class     Images  Instances      Box(P          R      mAP50  mAP50-95)     Mask(P          R      mAP50  mAP50-95): 100%|██████████| 1/1 [00:04<00:00,  4.49s/it]"
          ]
        },
        {
          "name": "stdout",
          "output_type": "stream",
          "text": [
            "                   all         19         45      0.955       0.95      0.988      0.907      0.955       0.95      0.979      0.826\n"
          ]
        },
        {
          "name": "stderr",
          "output_type": "stream",
          "text": [
            "\n"
          ]
        },
        {
          "name": "stdout",
          "output_type": "stream",
          "text": [
            "\n",
            "      Epoch    GPU_mem   box_loss   seg_loss   cls_loss   dfl_loss  Instances       Size\n"
          ]
        },
        {
          "name": "stderr",
          "output_type": "stream",
          "text": [
            "      39/50         0G     0.4276     0.6194     0.4772     0.9064         95        640: 100%|██████████| 5/5 [00:27<00:00,  5.60s/it]\n",
            "                 Class     Images  Instances      Box(P          R      mAP50  mAP50-95)     Mask(P          R      mAP50  mAP50-95): 100%|██████████| 1/1 [00:04<00:00,  4.38s/it]"
          ]
        },
        {
          "name": "stdout",
          "output_type": "stream",
          "text": [
            "                   all         19         45      0.977      0.949      0.988      0.904      0.977      0.949       0.98      0.823\n"
          ]
        },
        {
          "name": "stderr",
          "output_type": "stream",
          "text": [
            "\n"
          ]
        },
        {
          "name": "stdout",
          "output_type": "stream",
          "text": [
            "\n",
            "      Epoch    GPU_mem   box_loss   seg_loss   cls_loss   dfl_loss  Instances       Size\n"
          ]
        },
        {
          "name": "stderr",
          "output_type": "stream",
          "text": [
            "      40/50         0G     0.3989     0.5866     0.4454     0.8972        109        640: 100%|██████████| 5/5 [00:28<00:00,  5.69s/it]\n",
            "                 Class     Images  Instances      Box(P          R      mAP50  mAP50-95)     Mask(P          R      mAP50  mAP50-95): 100%|██████████| 1/1 [00:05<00:00,  5.55s/it]"
          ]
        },
        {
          "name": "stdout",
          "output_type": "stream",
          "text": [
            "                   all         19         45       0.98      0.956      0.987      0.895      0.975      0.956      0.982      0.822\n"
          ]
        },
        {
          "name": "stderr",
          "output_type": "stream",
          "text": [
            "\n"
          ]
        },
        {
          "name": "stdout",
          "output_type": "stream",
          "text": [
            "Closing dataloader mosaic\n",
            "\n",
            "      Epoch    GPU_mem   box_loss   seg_loss   cls_loss   dfl_loss  Instances       Size\n"
          ]
        },
        {
          "name": "stderr",
          "output_type": "stream",
          "text": [
            "      41/50         0G     0.3425     0.5609     0.7872      0.896         46        640: 100%|██████████| 5/5 [00:31<00:00,  6.32s/it]\n",
            "                 Class     Images  Instances      Box(P          R      mAP50  mAP50-95)     Mask(P          R      mAP50  mAP50-95): 100%|██████████| 1/1 [00:05<00:00,  5.01s/it]"
          ]
        },
        {
          "name": "stdout",
          "output_type": "stream",
          "text": [
            "                   all         19         45      0.975      0.956      0.984      0.898      0.975      0.956      0.984      0.833\n"
          ]
        },
        {
          "name": "stderr",
          "output_type": "stream",
          "text": [
            "\n"
          ]
        },
        {
          "name": "stdout",
          "output_type": "stream",
          "text": [
            "\n",
            "      Epoch    GPU_mem   box_loss   seg_loss   cls_loss   dfl_loss  Instances       Size\n"
          ]
        },
        {
          "name": "stderr",
          "output_type": "stream",
          "text": [
            "      42/50         0G     0.3436     0.5295     0.6683       0.91         41        640: 100%|██████████| 5/5 [00:30<00:00,  6.08s/it]\n",
            "                 Class     Images  Instances      Box(P          R      mAP50  mAP50-95)     Mask(P          R      mAP50  mAP50-95): 100%|██████████| 1/1 [00:05<00:00,  5.01s/it]"
          ]
        },
        {
          "name": "stdout",
          "output_type": "stream",
          "text": [
            "                   all         19         45      0.976      0.956      0.982      0.902      0.976      0.956      0.982      0.828\n"
          ]
        },
        {
          "name": "stderr",
          "output_type": "stream",
          "text": [
            "\n"
          ]
        },
        {
          "name": "stdout",
          "output_type": "stream",
          "text": [
            "\n",
            "      Epoch    GPU_mem   box_loss   seg_loss   cls_loss   dfl_loss  Instances       Size\n"
          ]
        },
        {
          "name": "stderr",
          "output_type": "stream",
          "text": [
            "      43/50         0G      0.341       0.49     0.6359      0.903         42        640: 100%|██████████| 5/5 [00:30<00:00,  6.01s/it]\n",
            "                 Class     Images  Instances      Box(P          R      mAP50  mAP50-95)     Mask(P          R      mAP50  mAP50-95): 100%|██████████| 1/1 [00:04<00:00,  4.54s/it]"
          ]
        },
        {
          "name": "stdout",
          "output_type": "stream",
          "text": [
            "                   all         19         45      0.977      0.953      0.969       0.87      0.977      0.953      0.969      0.816\n"
          ]
        },
        {
          "name": "stderr",
          "output_type": "stream",
          "text": [
            "\n"
          ]
        },
        {
          "name": "stdout",
          "output_type": "stream",
          "text": [
            "\n",
            "      Epoch    GPU_mem   box_loss   seg_loss   cls_loss   dfl_loss  Instances       Size\n"
          ]
        },
        {
          "name": "stderr",
          "output_type": "stream",
          "text": [
            "      44/50         0G     0.3295     0.4564     0.5612     0.8749         41        640: 100%|██████████| 5/5 [00:27<00:00,  5.42s/it]\n",
            "                 Class     Images  Instances      Box(P          R      mAP50  mAP50-95)     Mask(P          R      mAP50  mAP50-95): 100%|██████████| 1/1 [00:04<00:00,  4.49s/it]"
          ]
        },
        {
          "name": "stdout",
          "output_type": "stream",
          "text": [
            "                   all         19         45      0.972      0.933      0.947      0.853      0.972      0.933      0.947      0.805\n",
            "\n",
            "      Epoch    GPU_mem   box_loss   seg_loss   cls_loss   dfl_loss  Instances       Size\n"
          ]
        },
        {
          "name": "stderr",
          "output_type": "stream",
          "text": [
            "\n",
            "      45/50         0G     0.3145     0.4259     0.5412     0.8702         46        640: 100%|██████████| 5/5 [00:26<00:00,  5.29s/it]\n",
            "                 Class     Images  Instances      Box(P          R      mAP50  mAP50-95)     Mask(P          R      mAP50  mAP50-95): 100%|██████████| 1/1 [00:05<00:00,  5.38s/it]"
          ]
        },
        {
          "name": "stdout",
          "output_type": "stream",
          "text": [
            "                   all         19         45      0.975      0.933      0.946      0.871      0.975      0.933      0.946      0.802\n"
          ]
        },
        {
          "name": "stderr",
          "output_type": "stream",
          "text": [
            "\n"
          ]
        },
        {
          "name": "stdout",
          "output_type": "stream",
          "text": [
            "\n",
            "      Epoch    GPU_mem   box_loss   seg_loss   cls_loss   dfl_loss  Instances       Size\n"
          ]
        },
        {
          "name": "stderr",
          "output_type": "stream",
          "text": [
            "      46/50         0G     0.3188     0.4465     0.5214     0.8716         43        640: 100%|██████████| 5/5 [00:30<00:00,  6.01s/it]\n",
            "                 Class     Images  Instances      Box(P          R      mAP50  mAP50-95)     Mask(P          R      mAP50  mAP50-95): 100%|██████████| 1/1 [00:05<00:00,  5.23s/it]"
          ]
        },
        {
          "name": "stdout",
          "output_type": "stream",
          "text": [
            "                   all         19         45      0.975      0.933      0.948      0.864      0.975      0.933      0.948      0.802\n"
          ]
        },
        {
          "name": "stderr",
          "output_type": "stream",
          "text": [
            "\n"
          ]
        },
        {
          "name": "stdout",
          "output_type": "stream",
          "text": [
            "\n",
            "      Epoch    GPU_mem   box_loss   seg_loss   cls_loss   dfl_loss  Instances       Size\n"
          ]
        },
        {
          "name": "stderr",
          "output_type": "stream",
          "text": [
            "      47/50         0G     0.3019     0.4333     0.4935     0.8509         41        640: 100%|██████████| 5/5 [00:30<00:00,  6.03s/it]\n",
            "                 Class     Images  Instances      Box(P          R      mAP50  mAP50-95)     Mask(P          R      mAP50  mAP50-95): 100%|██████████| 1/1 [00:04<00:00,  5.00s/it]"
          ]
        },
        {
          "name": "stdout",
          "output_type": "stream",
          "text": [
            "                   all         19         45      0.975      0.933      0.957      0.872      0.975      0.933      0.957      0.804\n"
          ]
        },
        {
          "name": "stderr",
          "output_type": "stream",
          "text": [
            "\n"
          ]
        },
        {
          "name": "stdout",
          "output_type": "stream",
          "text": [
            "\n",
            "      Epoch    GPU_mem   box_loss   seg_loss   cls_loss   dfl_loss  Instances       Size\n"
          ]
        },
        {
          "name": "stderr",
          "output_type": "stream",
          "text": [
            "      48/50         0G     0.2854     0.4167     0.4781     0.8411         41        640: 100%|██████████| 5/5 [00:29<00:00,  5.92s/it]\n",
            "                 Class     Images  Instances      Box(P          R      mAP50  mAP50-95)     Mask(P          R      mAP50  mAP50-95): 100%|██████████| 1/1 [00:04<00:00,  4.87s/it]"
          ]
        },
        {
          "name": "stdout",
          "output_type": "stream",
          "text": [
            "                   all         19         45      0.975      0.933      0.973      0.883      0.975      0.933      0.973      0.812\n"
          ]
        },
        {
          "name": "stderr",
          "output_type": "stream",
          "text": [
            "\n"
          ]
        },
        {
          "name": "stdout",
          "output_type": "stream",
          "text": [
            "\n",
            "      Epoch    GPU_mem   box_loss   seg_loss   cls_loss   dfl_loss  Instances       Size\n"
          ]
        },
        {
          "name": "stderr",
          "output_type": "stream",
          "text": [
            "      49/50         0G     0.2964      0.418     0.4802     0.8785         38        640: 100%|██████████| 5/5 [00:29<00:00,  5.93s/it]\n",
            "                 Class     Images  Instances      Box(P          R      mAP50  mAP50-95)     Mask(P          R      mAP50  mAP50-95): 100%|██████████| 1/1 [00:05<00:00,  5.13s/it]"
          ]
        },
        {
          "name": "stdout",
          "output_type": "stream",
          "text": [
            "                   all         19         45      0.975      0.933      0.976       0.88      0.975      0.933      0.976      0.821\n"
          ]
        },
        {
          "name": "stderr",
          "output_type": "stream",
          "text": [
            "\n"
          ]
        },
        {
          "name": "stdout",
          "output_type": "stream",
          "text": [
            "\n",
            "      Epoch    GPU_mem   box_loss   seg_loss   cls_loss   dfl_loss  Instances       Size\n"
          ]
        },
        {
          "name": "stderr",
          "output_type": "stream",
          "text": [
            "      50/50         0G     0.2838     0.4114     0.4653     0.8423         46        640: 100%|██████████| 5/5 [00:30<00:00,  6.02s/it]\n",
            "                 Class     Images  Instances      Box(P          R      mAP50  mAP50-95)     Mask(P          R      mAP50  mAP50-95): 100%|██████████| 1/1 [00:04<00:00,  4.98s/it]"
          ]
        },
        {
          "name": "stdout",
          "output_type": "stream",
          "text": [
            "                   all         19         45      0.975      0.933      0.976      0.881      0.975      0.933      0.976      0.823\n"
          ]
        },
        {
          "name": "stderr",
          "output_type": "stream",
          "text": [
            "\n"
          ]
        },
        {
          "name": "stdout",
          "output_type": "stream",
          "text": [
            "\n",
            "50 epochs completed in 0.497 hours.\n",
            "Optimizer stripped from runs/segment/train5/weights/last.pt, 6.8MB\n",
            "Optimizer stripped from runs/segment/train5/weights/best.pt, 6.8MB\n",
            "\n",
            "Validating runs/segment/train5/weights/best.pt...\n",
            "Ultralytics 8.3.89 🚀 Python-3.10.12 torch-2.6.0+cu124 CPU (Intel Core(TM) Ultra 7 165U)\n",
            "YOLOv8n-seg summary (fused): 85 layers, 3,258,259 parameters, 0 gradients, 12.0 GFLOPs\n"
          ]
        },
        {
          "name": "stderr",
          "output_type": "stream",
          "text": [
            "                 Class     Images  Instances      Box(P          R      mAP50  mAP50-95)     Mask(P          R      mAP50  mAP50-95): 100%|██████████| 1/1 [00:04<00:00,  4.54s/it]\n"
          ]
        },
        {
          "name": "stdout",
          "output_type": "stream",
          "text": [
            "                   all         19         45      0.955      0.951      0.988      0.907      0.955      0.951      0.979      0.826\n",
            "Speed: 1.3ms preprocess, 105.9ms inference, 0.0ms loss, 4.5ms postprocess per image\n",
            "Results saved to \u001b[1mruns/segment/train5\u001b[0m\n",
            "\u001b[34m\u001b[1mMLflow: \u001b[0mresults logged to runs/mlflow\n",
            "\u001b[34m\u001b[1mMLflow: \u001b[0mdisable with 'yolo settings mlflow=False'\n"
          ]
        }
      ],
      "source": [
        "device = \"cuda\" if torch.cuda.is_available() else \"cpu\"\n",
        "results = model.train(data=os.path.join(output_dir, \"dataset.yaml\"), epochs=50, imgsz=640, batch=16, device=device)"
      ]
    },
    {
      "cell_type": "code",
      "execution_count": 17,
      "metadata": {
        "colab": {
          "base_uri": "https://localhost:8080/"
        },
        "id": "_1qFsiml3o_h",
        "outputId": "e19d1837-f3c8-4966-f153-2edc0fb9ad18"
      },
      "outputs": [
        {
          "name": "stdout",
          "output_type": "stream",
          "text": [
            "Model saved successfully at /home/fahadabul/mask_rcnn_skyhub/segment/output/yolov8_trained.pt\n"
          ]
        }
      ],
      "source": [
        "# Save the trained model weights\n",
        "best_model_path = model.ckpt_path if hasattr(model, \"ckpt_path\") else os.path.join(\"runs/train\", \"weights\", \"yolo_v8_weights.pt\")\n",
        "if os.path.exists(best_model_path):\n",
        "    shutil.copy(best_model_path, model_save_path)\n",
        "    print(f\"Model saved successfully at {model_save_path}\")\n",
        "else:\n",
        "    print(\"Failed to save model: best model path not found.\")"
      ]
    },
    {
      "cell_type": "code",
      "execution_count": null,
      "metadata": {},
      "outputs": [],
      "source": []
    }
  ],
  "metadata": {
    "colab": {
      "provenance": []
    },
    "kernelspec": {
      "display_name": "skyenv",
      "language": "python",
      "name": "python3"
    },
    "language_info": {
      "codemirror_mode": {
        "name": "ipython",
        "version": 3
      },
      "file_extension": ".py",
      "mimetype": "text/x-python",
      "name": "python",
      "nbconvert_exporter": "python",
      "pygments_lexer": "ipython3",
      "version": "3.10.12"
    }
  },
  "nbformat": 4,
  "nbformat_minor": 0
}
